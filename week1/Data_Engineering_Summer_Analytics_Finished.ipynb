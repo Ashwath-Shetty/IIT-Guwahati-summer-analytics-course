{
 "cells": [
  {
   "cell_type": "markdown",
   "metadata": {
    "colab_type": "text",
    "id": "rXD4pnLulV9W"
   },
   "source": [
    "# Data Engineering\n"
   ]
  },
  {
   "cell_type": "markdown",
   "metadata": {},
   "source": [
    "#### Welcome to the Data Engineering Assignment of Summer Analytics 2020. This assignment is primarily based on Web-Scraping, but knowledge of other libraries (Numpy, Pandas) is essential for completion of the assignment. So make sure that you attempt this assignment only after you complete all the 5 days of Week 1"
   ]
  },
  {
   "cell_type": "markdown",
   "metadata": {
    "colab_type": "text",
    "id": "7XDBpzBjlV9X"
   },
   "source": [
    "## Retrieving data from the web"
   ]
  },
  {
   "cell_type": "markdown",
   "metadata": {
    "colab_type": "text",
    "id": "-uaZk6l3lV9X"
   },
   "source": [
    "### requests\n",
    "\n",
    "The first task is to retrieve some data from the Internet. Python has many built-in libraries that were developed over the years to do exactly that (e.g. urllib, urllib2, urllib3).\n",
    "\n",
    "However, these libraries are very low-level and somewhat hard to use. They become especially cumbersome when you need to issue POST requests or authenticate against a web service.\n",
    "\n",
    "Luckly, as with most tasks in Python, someone has developed a library that simplifies these tasks. In reality, the requests made both on this assignment are fairly simple, and could easily be done using one of the built-in libraries. However, it is better to get acquainted to `requests` as soon as possible, since you will probably need it in the future."
   ]
  },
  {
   "cell_type": "code",
   "execution_count": 2,
   "metadata": {
    "colab": {},
    "colab_type": "code",
    "id": "FxcJAU4plV9Y"
   },
   "outputs": [],
   "source": [
    "# You tell Python that you want to use a library with the import statement.\n",
    "import requests"
   ]
  },
  {
   "cell_type": "markdown",
   "metadata": {
    "colab_type": "text",
    "id": "lPeOV8Z8lV9b"
   },
   "source": [
    "Now that the requests library was imported into our namespace, we can use the functions offered by it.\n",
    "\n",
    "In this case we'll use the appropriately named `get` function to issue a *GET* request. This is equivalent to typing a URL into your browser and hitting enter."
   ]
  },
  {
   "cell_type": "code",
   "execution_count": 4,
   "metadata": {
    "colab": {},
    "colab_type": "code",
    "id": "X5ezX4D6lV9c"
   },
   "outputs": [
    {
     "data": {
      "text/plain": [
       "<Response [200]>"
      ]
     },
     "execution_count": 4,
     "metadata": {},
     "output_type": "execute_result"
    }
   ],
   "source": [
    "# Get the HU Wikipedia page\n",
    "req = requests.get(\"https://en.wikipedia.org/wiki/Harvard_University\")\n",
    "req"
   ]
  },
  {
   "cell_type": "markdown",
   "metadata": {
    "colab_type": "text",
    "id": "Qp5f0iI4lV9f"
   },
   "source": [
    "Another very nifty Python function is `dir`. You can use it to list all the properties of an object.\n"
   ]
  },
  {
   "cell_type": "code",
   "execution_count": 5,
   "metadata": {
    "colab": {},
    "colab_type": "code",
    "id": "fHLQCt4LlV9f"
   },
   "outputs": [
    {
     "data": {
      "text/plain": [
       "['__attrs__',\n",
       " '__bool__',\n",
       " '__class__',\n",
       " '__delattr__',\n",
       " '__dict__',\n",
       " '__dir__',\n",
       " '__doc__',\n",
       " '__enter__',\n",
       " '__eq__',\n",
       " '__exit__',\n",
       " '__format__',\n",
       " '__ge__',\n",
       " '__getattribute__',\n",
       " '__getstate__',\n",
       " '__gt__',\n",
       " '__hash__',\n",
       " '__init__',\n",
       " '__init_subclass__',\n",
       " '__iter__',\n",
       " '__le__',\n",
       " '__lt__',\n",
       " '__module__',\n",
       " '__ne__',\n",
       " '__new__',\n",
       " '__nonzero__',\n",
       " '__reduce__',\n",
       " '__reduce_ex__',\n",
       " '__repr__',\n",
       " '__setattr__',\n",
       " '__setstate__',\n",
       " '__sizeof__',\n",
       " '__str__',\n",
       " '__subclasshook__',\n",
       " '__weakref__',\n",
       " '_content',\n",
       " '_content_consumed',\n",
       " '_next',\n",
       " 'apparent_encoding',\n",
       " 'close',\n",
       " 'connection',\n",
       " 'content',\n",
       " 'cookies',\n",
       " 'elapsed',\n",
       " 'encoding',\n",
       " 'headers',\n",
       " 'history',\n",
       " 'is_permanent_redirect',\n",
       " 'is_redirect',\n",
       " 'iter_content',\n",
       " 'iter_lines',\n",
       " 'json',\n",
       " 'links',\n",
       " 'next',\n",
       " 'ok',\n",
       " 'raise_for_status',\n",
       " 'raw',\n",
       " 'reason',\n",
       " 'request',\n",
       " 'status_code',\n",
       " 'text',\n",
       " 'url']"
      ]
     },
     "execution_count": 5,
     "metadata": {},
     "output_type": "execute_result"
    }
   ],
   "source": [
    "dir(req)"
   ]
  },
  {
   "cell_type": "markdown",
   "metadata": {
    "colab_type": "text",
    "id": "3tKlDZhnlV9i"
   },
   "source": [
    "Right now `req` holds a reference to a *Request* object; but we are interested in the text associated with the web page, not the object itself.\n",
    "\n",
    "So the next step is to assign the value of the `text` property of this `Request` object to a variable."
   ]
  },
  {
   "cell_type": "code",
   "execution_count": 64,
   "metadata": {
    "colab": {},
    "colab_type": "code",
    "id": "_ALSXUOmlV9j"
   },
   "outputs": [],
   "source": [
    "page = req.text\n",
    "#page"
   ]
  },
  {
   "cell_type": "markdown",
   "metadata": {
    "colab_type": "text",
    "id": "XTKvFbQflV9l"
   },
   "source": [
    "Great! Now we have the text of the HU Wikipedia page. But this mess of HTML tags would be a pain to parse manually. Which is why we will use another very cool Python library called BeautifulSoup."
   ]
  },
  {
   "cell_type": "markdown",
   "metadata": {
    "colab_type": "text",
    "id": "QHbaowAQlV9m"
   },
   "source": [
    "### BeautifulSoup\n",
    "\n",
    "Parsing data would be a breeze if we could always use well formatted data sources, such as CSV, JSON, or XML; but some formats such as HTML are at the same time a very popular and a pain to parse.\n",
    "\n",
    "One of the problems with HTML is that over the years browsers have evolved to be very forgiving of \"malformed\" syntax. Your browser is smart enough to detect some common problems, such as open tags, and correct them on the fly.\n",
    "\n",
    "Unfortunately, we do not have the time or patience to implement all the different corner cases, so we'll let BeautifulSoup do that for us.\n"
   ]
  },
  {
   "cell_type": "markdown",
   "metadata": {
    "colab_type": "text",
    "id": "EwaIhp4-lV9m"
   },
   "source": [
    "# 1) Import BeautifulSoup"
   ]
  },
  {
   "cell_type": "code",
   "execution_count": 7,
   "metadata": {
    "colab": {},
    "colab_type": "code",
    "id": "UVf4tQVwlV9m"
   },
   "outputs": [],
   "source": [
    "from bs4 import BeautifulSoup"
   ]
  },
  {
   "cell_type": "markdown",
   "metadata": {
    "colab_type": "text",
    "id": "YW5H9wQolV9p"
   },
   "source": [
    "BeautifulSoup can deal with HTML or XML data, so the next line parser the contents of the `page` variable using its HTML parser, and assigns the result of that to the `soup` variable."
   ]
  },
  {
   "cell_type": "markdown",
   "metadata": {
    "colab_type": "text",
    "id": "W4qMWAjjlV9q"
   },
   "source": [
    "# 2) Create a Soup variable to store the parsed contents of the page"
   ]
  },
  {
   "cell_type": "code",
   "execution_count": 10,
   "metadata": {
    "colab": {},
    "colab_type": "code",
    "id": "ETgsZQ54lV9q"
   },
   "outputs": [],
   "source": [
    "# Your Code Here\n",
    "soup = BeautifulSoup(page, 'html.parser')"
   ]
  },
  {
   "cell_type": "code",
   "execution_count": 11,
   "metadata": {},
   "outputs": [
    {
     "data": {
      "text/plain": [
       "'against'"
      ]
     },
     "execution_count": 11,
     "metadata": {},
     "output_type": "execute_result"
    }
   ],
   "source": [
    "soup_s = str(soup)\n",
    "ls = soup_s.split()\n",
    "ls[50]"
   ]
  },
  {
   "cell_type": "markdown",
   "metadata": {
    "colab_type": "text",
    "id": "A44wD93llV9t"
   },
   "source": [
    "Let's check the string representation of the `soup` object."
   ]
  },
  {
   "cell_type": "code",
   "execution_count": 13,
   "metadata": {
    "colab": {},
    "colab_type": "code",
    "id": "U1Yc1O0wlV9t",
    "scrolled": false
   },
   "outputs": [],
   "source": [
    "soup"
   ]
  },
  {
   "cell_type": "markdown",
   "metadata": {
    "colab_type": "text",
    "id": "yeiPGaJLlV9w"
   },
   "source": [
    "Doesn't look much different from the `page` object representation. Let's make sure the two are different types."
   ]
  },
  {
   "cell_type": "code",
   "execution_count": 14,
   "metadata": {
    "colab": {},
    "colab_type": "code",
    "id": "XpB2HMKQlV9w"
   },
   "outputs": [
    {
     "data": {
      "text/plain": [
       "str"
      ]
     },
     "execution_count": 14,
     "metadata": {},
     "output_type": "execute_result"
    }
   ],
   "source": [
    "type(page)"
   ]
  },
  {
   "cell_type": "code",
   "execution_count": 15,
   "metadata": {
    "colab": {},
    "colab_type": "code",
    "id": "DXQkdjPYlV9z"
   },
   "outputs": [
    {
     "data": {
      "text/plain": [
       "bs4.BeautifulSoup"
      ]
     },
     "execution_count": 15,
     "metadata": {},
     "output_type": "execute_result"
    }
   ],
   "source": [
    "type(soup)"
   ]
  },
  {
   "cell_type": "markdown",
   "metadata": {
    "colab_type": "text",
    "id": "guVuqnfVlV92"
   },
   "source": [
    "Looks like they are indeed different."
   ]
  },
  {
   "cell_type": "markdown",
   "metadata": {
    "colab_type": "text",
    "id": "qGosO-26lV92"
   },
   "source": [
    "# 3) Display the title of the webpage"
   ]
  },
  {
   "cell_type": "markdown",
   "metadata": {
    "colab_type": "text",
    "id": "Hel9PQeYlV92"
   },
   "source": [
    "### Expected Output\n",
    "```\n",
    "<title>Harvard University - Wikipedia, the free encyclopedia</title>\n",
    "```"
   ]
  },
  {
   "cell_type": "code",
   "execution_count": 16,
   "metadata": {
    "colab": {},
    "colab_type": "code",
    "id": "zlq9qwTxlV93"
   },
   "outputs": [
    {
     "name": "stdout",
     "output_type": "stream",
     "text": [
      "<title>Harvard University - Wikipedia</title>\n"
     ]
    }
   ],
   "source": [
    "print(soup.title)"
   ]
  },
  {
   "cell_type": "markdown",
   "metadata": {
    "colab_type": "text",
    "id": "-sXMqir5lV95"
   },
   "source": [
    "This is nice for HTML elements that only appear once per page, such the the `title` tag. But what about elements that can appear multiple times?"
   ]
  },
  {
   "cell_type": "markdown",
   "metadata": {
    "colab_type": "text",
    "id": "IWCsGEtNlV95"
   },
   "source": [
    "# 4) Display all p tags from the webpage"
   ]
  },
  {
   "cell_type": "markdown",
   "metadata": {
    "colab_type": "text",
    "id": "_SrRxjBMlV96"
   },
   "source": [
    "#### You may use find_all method!"
   ]
  },
  {
   "cell_type": "code",
   "execution_count": 17,
   "metadata": {
    "colab": {},
    "colab_type": "code",
    "id": "S-IDFqAblV96"
   },
   "outputs": [
    {
     "data": {
      "text/plain": [
       "[<p class=\"mw-empty-elt\">\n",
       " </p>,\n",
       " <p><b>Harvard University</b> is a private <a href=\"/wiki/Ivy_League\" title=\"Ivy League\">Ivy League</a> <a href=\"/wiki/Research_university\" title=\"Research university\">research university</a> in <a href=\"/wiki/Cambridge,_Massachusetts\" title=\"Cambridge, Massachusetts\">Cambridge, Massachusetts</a>, with about 6,800 undergraduate students and about 14,000 postgraduate students. Established in 1636 and named for its first benefactor, clergyman <a href=\"/wiki/John_Harvard_(clergyman)\" title=\"John Harvard (clergyman)\">John Harvard</a>, Harvard is the <a class=\"mw-redirect\" href=\"/wiki/Colonial_Colleges\" title=\"Colonial Colleges\">United States' oldest institution of higher learning</a>.<sup class=\"reference\" id=\"cite_ref-7\"><a href=\"#cite_note-7\">[7]</a></sup> Its history, influence, wealth, and academic reputation have made it one of the most prestigious universities in the world.<sup class=\"reference\" id=\"cite_ref-8\"><a href=\"#cite_note-8\">[8]</a></sup><sup class=\"reference\" id=\"cite_ref-9\"><a href=\"#cite_note-9\">[9]</a></sup><sup class=\"reference\" id=\"cite_ref-10\"><a href=\"#cite_note-10\">[10]</a></sup><sup class=\"reference\" id=\"cite_ref-11\"><a href=\"#cite_note-11\">[11]</a></sup><sup class=\"reference\" id=\"cite_ref-12\"><a href=\"#cite_note-12\">[12]</a></sup><sup class=\"reference\" id=\"cite_ref-13\"><a href=\"#cite_note-13\">[13]</a></sup>\n",
       " </p>,\n",
       " <p>The <a href=\"/wiki/Massachusetts_General_Court\" title=\"Massachusetts General Court\">Massachusetts Great and General Court</a> authorized Harvard's founding. In its early years, <a href=\"/wiki/Harvard_College\" title=\"Harvard College\">Harvard College</a> primarily trained <a href=\"/wiki/Congregationalism_in_the_United_States\" title=\"Congregationalism in the United States\">Congregational</a> and <a href=\"/wiki/Unitarianism\" title=\"Unitarianism\">Unitarian</a> clergy, although it has never been formally affiliated with any <a href=\"/wiki/Religious_denomination\" title=\"Religious denomination\">denomination</a>. Its curriculum and student body were gradually secularized during the 18th century, and by the 19th century, Harvard had emerged as the central cultural establishment among <a href=\"/wiki/Boston_Brahmin\" title=\"Boston Brahmin\">Boston elites</a>.<sup class=\"reference\" id=\"cite_ref-14\"><a href=\"#cite_note-14\">[14]</a></sup><sup class=\"reference\" id=\"cite_ref-15\"><a href=\"#cite_note-15\">[15]</a></sup> Following the <a href=\"/wiki/American_Civil_War\" title=\"American Civil War\">American Civil War</a>, President <a class=\"mw-redirect\" href=\"/wiki/Charles_W._Eliot\" title=\"Charles W. Eliot\">Charles W. Eliot</a>'s long tenure (1869–1909) transformed the college and affiliated professional schools into a modern <a href=\"/wiki/Research_university\" title=\"Research university\">research university</a>; Harvard was a founding member of the <a href=\"/wiki/Association_of_American_Universities\" title=\"Association of American Universities\">Association of American Universities</a> in 1900.<sup class=\"reference\" id=\"cite_ref-AAU_16-0\"><a href=\"#cite_note-AAU-16\">[16]</a></sup>\n",
       " <a href=\"/wiki/A._Lawrence_Lowell\" title=\"A. Lawrence Lowell\">A. Lawrence Lowell</a>, who succeeded Eliot, further reformed the undergraduate curriculum and undertook aggressive expansion of Harvard's land holdings and physical campus. <a class=\"mw-redirect\" href=\"/wiki/James_Bryant_Conant\" title=\"James Bryant Conant\">James Bryant Conant</a> led the university through the <a href=\"/wiki/Great_Depression\" title=\"Great Depression\">Great Depression</a> and <a href=\"/wiki/World_War_II\" title=\"World War II\">World War II</a>; he began to liberalize admissions after the war.\n",
       " </p>,\n",
       " <p>The university is composed of eleven principal academic units—ten faculties and the <a href=\"/wiki/Radcliffe_Institute_for_Advanced_Study\" title=\"Radcliffe Institute for Advanced Study\">Radcliffe Institute for Advanced Study</a>—with campuses throughout <a href=\"/wiki/Greater_Boston\" title=\"Greater Boston\">Greater Boston</a>:<sup class=\"reference\" id=\"cite_ref-17\"><a href=\"#cite_note-17\">[17]</a></sup> its 209-acre (85 ha) original <a href=\"/wiki/Harvard_College\" title=\"Harvard College\">undergraduate</a> campus is centered on <a href=\"/wiki/Harvard_Yard\" title=\"Harvard Yard\">Harvard Yard</a> in Cambridge, approximately 3 miles (5 km) northwest of Boston; the <a href=\"/wiki/Harvard_Business_School\" title=\"Harvard Business School\">business school</a> and many athletics facilities, including <a href=\"/wiki/Harvard_Stadium\" title=\"Harvard Stadium\">Harvard Stadium</a>, are across the <a href=\"/wiki/Charles_River\" title=\"Charles River\">Charles River</a> in the <a href=\"/wiki/Allston\" title=\"Allston\">Allston</a> neighborhood of Boston; and the <a href=\"/wiki/Harvard_Medical_School\" title=\"Harvard Medical School\">medical</a>, <a href=\"/wiki/Harvard_School_of_Dental_Medicine\" title=\"Harvard School of Dental Medicine\">dental</a>, and <a href=\"/wiki/Harvard_T.H._Chan_School_of_Public_Health\" title=\"Harvard T.H. Chan School of Public Health\">public health</a> schools are in the <a href=\"/wiki/Longwood_Medical_and_Academic_Area\" title=\"Longwood Medical and Academic Area\">Longwood Medical Area</a>.<sup class=\"reference\" id=\"cite_ref-Campus_18-0\"><a href=\"#cite_note-Campus-18\">[18]</a></sup> <a href=\"/wiki/Harvard_University_endowment\" title=\"Harvard University endowment\">Harvard's endowment</a> is worth $40.9 billion, making it the <a href=\"/wiki/List_of_colleges_and_universities_in_the_United_States_by_endowment\" title=\"List of colleges and universities in the United States by endowment\">largest of any academic institution</a>.<sup class=\"reference\" id=\"cite_ref-Endowment_4-1\"><a href=\"#cite_note-Endowment-4\">[4]</a></sup>\n",
       " Harvard is a large, highly residential research university.<sup class=\"reference\" id=\"cite_ref-Carnegie_19-0\"><a href=\"#cite_note-Carnegie-19\">[19]</a></sup> While the nominal cost of attendance is high, the university's sizeable endowment allows it to offer generous, no-loan financial aid packages and use <a href=\"/wiki/Need-blind_admission\" title=\"Need-blind admission\">need-blind admission</a>.<sup class=\"reference\" id=\"cite_ref-Costs_and_Tuition_20-0\"><a href=\"#cite_note-Costs_and_Tuition-20\">[20]</a></sup> The <a href=\"/wiki/Harvard_Library\" title=\"Harvard Library\">Harvard Library</a> is the world's largest academic library system, comprising 79 individual libraries holding about 20.4 million items.<sup class=\"reference\" id=\"cite_ref-hlar_21-0\"><a href=\"#cite_note-hlar-21\">[21]</a></sup><sup class=\"reference\" id=\"cite_ref-largestlibs_22-0\"><a href=\"#cite_note-largestlibs-22\">[22]</a></sup><sup class=\"reference\" id=\"cite_ref-speaking_23-0\"><a href=\"#cite_note-speaking-23\">[23]</a></sup><sup class=\"reference\" id=\"cite_ref-Harvard_Media_Relations_24-0\"><a href=\"#cite_note-Harvard_Media_Relations-24\">[24]</a></sup>\n",
       " </p>,\n",
       " <p>Harvard's alumni include <a class=\"mw-redirect\" href=\"/wiki/List_of_Presidents_of_the_United_States_by_education\" title=\"List of Presidents of the United States by education\">8 U.S. presidents</a>, more than 30 foreign <a href=\"/wiki/Head_of_state\" title=\"Head of state\">heads of state</a>, 188 <a href=\"/wiki/List_of_universities_by_number_of_billionaire_alumni\" title=\"List of universities by number of billionaire alumni\">living billionaires</a>, 369 <a href=\"/wiki/Rhodes_Scholarship\" title=\"Rhodes Scholarship\">Rhodes Scholars</a>, and 252 <a href=\"/wiki/Marshall_Scholarship\" title=\"Marshall Scholarship\">Marshall Scholars</a>.<sup class=\"reference\" id=\"cite_ref-25\"><a href=\"#cite_note-25\">[25]</a></sup><sup class=\"reference\" id=\"cite_ref-26\"><a href=\"#cite_note-26\">[26]</a></sup><sup class=\"reference\" id=\"cite_ref-27\"><a href=\"#cite_note-27\">[27]</a></sup> As of March 2020<sup class=\"plainlinks noexcerpt noprint asof-tag update\" style=\"display:none;\"><a class=\"external text\" href=\"https://en.wikipedia.org/w/index.php?title=Harvard_University&amp;action=edit\">[update]</a></sup>, <a href=\"/wiki/List_of_Nobel_laureates_by_university_affiliation\" title=\"List of Nobel laureates by university affiliation\">160 Nobel laureates</a>, <a href=\"/wiki/List_of_Fields_Medal_winners_by_university_affiliation\" title=\"List of Fields Medal winners by university affiliation\">18 Fields Medalists</a>, and <a href=\"/wiki/List_of_Turing_Award_laureates_by_university_affiliation\" title=\"List of Turing Award laureates by university affiliation\">14 Turing Award winners</a> have been affiliated as students, faculty, or researchers.<sup class=\"reference\" id=\"cite_ref-28\"><a href=\"#cite_note-28\">[28]</a></sup> In addition, Harvard students and alumni have won 10 <a href=\"/wiki/Academy_Awards\" title=\"Academy Awards\">Academy Awards</a>, 48 <a href=\"/wiki/Pulitzer_Prize\" title=\"Pulitzer Prize\">Pulitzer Prizes</a>, and <a href=\"/wiki/List_of_American_universities_with_Olympic_medals\" title=\"List of American universities with Olympic medals\">108 Olympic medals (46 gold, 41 silver, and 21 bronze)</a>, and founded <a href=\"/wiki/List_of_companies_founded_by_Harvard_University_alumni\" title=\"List of companies founded by Harvard University alumni\">many notable companies worldwide</a>.<sup class=\"reference\" id=\"cite_ref-29\"><a href=\"#cite_note-29\">[29]</a></sup><sup class=\"reference\" id=\"cite_ref-30\"><a href=\"#cite_note-30\">[30]</a></sup><sup class=\"reference\" id=\"cite_ref-31\"><a href=\"#cite_note-31\">[31]</a></sup>\n",
       " </p>,\n",
       " <p>Harvard was established in 1636 by vote of the Great and General Court of the <a href=\"/wiki/Massachusetts_Bay_Colony\" title=\"Massachusetts Bay Colony\">Massachusetts Bay Colony</a>.\n",
       " In 1638, it acquired <a href=\"/wiki/British_North_America\" title=\"British North America\">British North America</a>'s first known printing press.<sup class=\"reference\" id=\"cite_ref-FirstPrintingPress_32-0\"><a href=\"#cite_note-FirstPrintingPress-32\">[32]</a></sup><sup class=\"reference\" id=\"cite_ref-UHullMHSC_33-0\"><a href=\"#cite_note-UHullMHSC-33\">[33]</a></sup> In 1639, it was named <a href=\"/wiki/Harvard_College\" title=\"Harvard College\">Harvard College</a> after deceased clergyman <a href=\"/wiki/John_Harvard_(clergyman)\" title=\"John Harvard (clergyman)\">John Harvard</a>, an alumnus of the <a href=\"/wiki/University_of_Cambridge\" title=\"University of Cambridge\">University of Cambridge</a>, who had left the school <a href=\"/wiki/Pound_sign\" title=\"Pound sign\">£</a>779 and his library of some 400 volumes.<sup class=\"reference\" id=\"cite_ref-JH_facts_34-0\"><a href=\"#cite_note-JH_facts-34\">[34]</a></sup>\n",
       " The charter creating the <a class=\"mw-redirect\" href=\"/wiki/Harvard_Corporation\" title=\"Harvard Corporation\">Harvard Corporation</a> was granted in 1650.\n",
       " </p>,\n",
       " <p>A 1643 publication gave the school's purpose as \"to advance learning and perpetuate it to posterity, dreading to leave an illiterate ministry to the churches when our present ministers shall lie in the dust\";<sup class=\"reference\" id=\"cite_ref-35\"><a href=\"#cite_note-35\">[35]</a></sup>\n",
       " in its early years trained many Puritan ministers.<sup class=\"reference\" id=\"cite_ref-GriggMancall2008_36-0\"><a href=\"#cite_note-GriggMancall2008-36\">[36]</a></sup>\n",
       " It offered a classic curriculum on the English university model‍—‌many leaders in the colony had attended the <a href=\"/wiki/University_of_Cambridge\" title=\"University of Cambridge\">University of Cambridge</a>‍—‌but conformed to the tenets of <a class=\"mw-redirect\" href=\"/wiki/Puritanism\" title=\"Puritanism\">Puritanism</a>. It was never affiliated with any particular denomination, but many of its earliest graduates went on to become clergymen in Congregational and Unitarian churches.<sup class=\"reference\" id=\"cite_ref-37\"><a href=\"#cite_note-37\">[37]</a></sup>\n",
       " </p>,\n",
       " <p><a href=\"/wiki/Increase_Mather\" title=\"Increase Mather\">Increase Mather</a> served as president from 1681 to 1701. In 1708, <a href=\"/wiki/John_Leverett_the_Younger\" title=\"John Leverett the Younger\">John Leverett</a> became the first president who was not also a clergyman, marking a turning of the college away from Puritanism and toward intellectual independence.<sup class=\"reference\" id=\"cite_ref-38\"><a href=\"#cite_note-38\">[38]</a></sup>\n",
       " </p>,\n",
       " <p>In the 19th century, <a href=\"/wiki/Age_of_Enlightenment\" title=\"Age of Enlightenment\">Enlightenment</a> ideas of the power of reason and free will were widespread among <a href=\"/wiki/Congregationalism_in_the_United_States\" title=\"Congregationalism in the United States\">Congregational</a> ministers, putting those ministers and their congregations in tension with more traditionalist, <a class=\"mw-redirect\" href=\"/wiki/Calvinist\" title=\"Calvinist\">Calvinist</a> parties.<sup class=\"reference\" id=\"cite_ref-Dorrien_39-0\"><a href=\"#cite_note-Dorrien-39\">[39]</a></sup><sup class=\"reference\" style=\"white-space:nowrap;\">:<span>1–4</span></sup>  When <a href=\"/wiki/Hollis_Chair_of_Divinity\" title=\"Hollis Chair of Divinity\">Hollis Professor of Divinity</a> David Tappan died in 1803 and <a href=\"/wiki/President_of_Harvard_University\" title=\"President of Harvard University\">President</a> Joseph Willard died a year later, a struggle broke out over their replacements.  <a href=\"/wiki/Henry_Ware_(Unitarian)\" title=\"Henry Ware (Unitarian)\">Henry Ware</a> was elected to the chair in 1805, and the liberal <a href=\"/wiki/Samuel_Webber\" title=\"Samuel Webber\">Samuel Webber</a> was appointed to the presidency two years later, signaling the shift from the dominance of traditional ideas at Harvard to the dominance of liberal, <a href=\"/wiki/Arminianism\" title=\"Arminianism\">Arminian</a> ideas (defined by traditionalists as <a class=\"mw-redirect\" href=\"/wiki/Unitarian-Universalism\" title=\"Unitarian-Universalism\">Unitarian</a> ideas).<sup class=\"reference\" id=\"cite_ref-Dorrien_39-1\"><a href=\"#cite_note-Dorrien-39\">[39]</a></sup><sup class=\"reference\" style=\"white-space:nowrap;\">:<span>4–5</span></sup><sup class=\"reference\" id=\"cite_ref-40\"><a href=\"#cite_note-40\">[40]</a></sup><sup class=\"reference\" style=\"white-space:nowrap;\">:<span>24</span></sup>\n",
       " </p>,\n",
       " <p>In 1846, the natural history lectures of <a href=\"/wiki/Louis_Agassiz\" title=\"Louis Agassiz\">Louis Agassiz</a> were acclaimed both in New York and on the campus at <a href=\"/wiki/Harvard_College\" title=\"Harvard College\">Harvard College</a>. Agassiz's approach was distinctly idealist and posited Americans' \"participation in the Divine Nature\" and the possibility of understanding \"intellectual existences.\" Agassiz's perspective on science combined observation with intuition and the assumption that a person can grasp the \"divine plan\" in all phenomena. When it came to explaining life-forms, Agassiz resorted to matters of shape based on a presumed archetype for his evidence. This dual view of knowledge was in concert with the teachings of <a class=\"mw-redirect\" href=\"/wiki/Common_Sense_Realism\" title=\"Common Sense Realism\">Common Sense Realism</a> derived from Scottish philosophers <a href=\"/wiki/Thomas_Reid\" title=\"Thomas Reid\">Thomas Reid</a> and <a href=\"/wiki/Dugald_Stewart\" title=\"Dugald Stewart\">Dugald Stewart</a>, whose works were part of the Harvard curriculum at the time. The popularity of Agassiz's efforts to \"soar with Plato\" probably also derived from other writings to which Harvard students were exposed, including Platonic treatises by <a href=\"/wiki/Ralph_Cudworth\" title=\"Ralph Cudworth\">Ralph Cudworth</a>, <a href=\"/wiki/John_Norris_(philosopher)\" title=\"John Norris (philosopher)\">John Norris</a> and, in a Romantic vein, <a href=\"/wiki/Samuel_Taylor_Coleridge\" title=\"Samuel Taylor Coleridge\">Samuel Taylor Coleridge</a>. The library records at Harvard reveal that the writings of Plato and his early modern and Romantic followers were almost as regularly read during the 19th century as those of the \"official philosophy\" of the more empirical and more deistic Scottish school.<sup class=\"reference\" id=\"cite_ref-41\"><a href=\"#cite_note-41\">[41]</a></sup>\n",
       " </p>,\n",
       " <p><a class=\"mw-redirect\" href=\"/wiki/Charles_W._Eliot\" title=\"Charles W. Eliot\">Charles W. Eliot</a>, president 1869–1909, eliminated the favored position of Christianity from the curriculum while opening it to student self-direction. While Eliot was the most crucial figure in the secularization of American higher education, he was motivated not by a desire to secularize education, but by <a href=\"/wiki/Transcendentalism\" title=\"Transcendentalism\">Transcendentalist</a> <a href=\"/wiki/Unitarianism\" title=\"Unitarianism\">Unitarian</a> convictions. Derived from <a href=\"/wiki/William_Ellery_Channing\" title=\"William Ellery Channing\">William Ellery Channing</a> and <a href=\"/wiki/Ralph_Waldo_Emerson\" title=\"Ralph Waldo Emerson\">Ralph Waldo Emerson</a>, these convictions were focused on the dignity and worth of human nature, the right and ability of each person to perceive truth, and the indwelling God in each person.<sup class=\"reference\" id=\"cite_ref-42\"><a href=\"#cite_note-42\">[42]</a></sup>\n",
       " </p>,\n",
       " <p>In 1876, Harvard became the first American university to award a PhD in economics.<sup class=\"reference\" id=\"cite_ref-43\"><a href=\"#cite_note-43\">[43]</a></sup>\n",
       " </p>,\n",
       " <p>During the 20th century, Harvard's international reputation grew as a burgeoning endowment and prominent professors expanded the university's scope. Rapid enrollment growth continued as new graduate schools were begun and the <a href=\"/wiki/Harvard_College\" title=\"Harvard College\">undergraduate college</a> expanded. <a href=\"/wiki/Radcliffe_College\" title=\"Radcliffe College\">Radcliffe College</a>, established in 1879 as sister school of Harvard College, became one of the most prominent schools for women in the United States. Harvard became a founding member of the <a href=\"/wiki/Association_of_American_Universities\" title=\"Association of American Universities\">Association of American Universities</a> in 1900.<sup class=\"reference\" id=\"cite_ref-AAU_16-1\"><a href=\"#cite_note-AAU-16\">[16]</a></sup>\n",
       " </p>,\n",
       " <p>In the early 20th century, the student body was predominantly \"old-stock, high-status Protestants, especially Episcopalians, Congregationalists, and Presbyterians,\" a group later called \"<a class=\"mw-redirect\" href=\"/wiki/WASPs\" title=\"WASPs\">WASPs</a>.\" A 1923 proposal by President <a href=\"/wiki/A._Lawrence_Lowell\" title=\"A. Lawrence Lowell\">A. Lawrence Lowell</a> that Jews be limited to 15% of undergraduates was rejected, but Lowell did ban blacks from Harvard Yard, writing that \"forcing\" blacks and whites to live together \"would increase a prejudice that<span class=\"nowrap\"> </span>... is most unfortunate and probably growing.\"<sup class=\"reference\" id=\"cite_ref-45\"><a href=\"#cite_note-45\">[45]</a></sup><sup class=\"reference\" id=\"cite_ref-46\"><a href=\"#cite_note-46\">[46]</a></sup><sup class=\"reference\" id=\"cite_ref-47\"><a href=\"#cite_note-47\">[47]</a></sup><sup class=\"reference\" id=\"cite_ref-48\"><a href=\"#cite_note-48\">[48]</a></sup>\n",
       " </p>,\n",
       " <p>President <a class=\"mw-redirect\" href=\"/wiki/James_Bryant_Conant\" title=\"James Bryant Conant\">James Bryant Conant</a> reinvigorated creative scholarship to guarantee Harvard's preeminence among research institutions. He saw higher education as a vehicle of opportunity for the talented rather than an entitlement for the wealthy, so Conant devised programs to identify, recruit, and support talented youth. In 1943, he asked the faculty to make a definitive statement about what general education ought to be, at the secondary as well as at the college level. The resulting <i>Report</i>, published in 1945, was one of the most influential manifestos in 20th century American education.<sup class=\"reference\" id=\"cite_ref-49\"><a href=\"#cite_note-49\">[49]</a></sup>\n",
       " </p>,\n",
       " <p>Between 1945 and 1960, admissions were opened up to bring in a more diverse group of students. No longer drawing mostly from rich alumni of select New England <a class=\"mw-redirect\" href=\"/wiki/University-preparatory_school\" title=\"University-preparatory school\">prep schools</a>, the <a href=\"/wiki/Harvard_College\" title=\"Harvard College\">undergraduate college</a> was now open to striving middle class students from public schools; many more Jews and Catholics were admitted, but few blacks, Hispanics, or Asians.<sup class=\"reference\" id=\"cite_ref-50\"><a href=\"#cite_note-50\">[50]</a></sup> Throughout the rest of the 20th century, Harvard became more diverse.<sup class=\"reference\" id=\"cite_ref-51\"><a href=\"#cite_note-51\">[51]</a></sup>\n",
       " </p>,\n",
       " <p>Harvard's graduate schools began admitting women in small numbers in the late 19th century. During World War II, students at <a href=\"/wiki/Radcliffe_College\" title=\"Radcliffe College\">Radcliffe College</a> (which since 1879 had been paying Harvard professors to repeat their lectures for women) began attending Harvard classes alongside men.<sup class=\"reference\" id=\"cite_ref-52\"><a href=\"#cite_note-52\">[52]</a></sup> Women were first admitted to <a href=\"/wiki/Harvard_Medical_School\" title=\"Harvard Medical School\">Harvard Medical School</a> in 1945.<sup class=\"reference\" id=\"cite_ref-First_class_of_women_admitted_to_Harvard_Medical_School,_1945_53-0\"><a href=\"#cite_note-First_class_of_women_admitted_to_Harvard_Medical_School,_1945-53\">[53]</a></sup>\n",
       " Since 1971, Harvard has controlled essentially all aspects of undergraduate admission, instruction, and housing for Radcliffe women. In 1999, Radcliffe was formally merged into Harvard.<sup class=\"reference\" id=\"cite_ref-54\"><a href=\"#cite_note-54\">[54]</a></sup>\n",
       " </p>,\n",
       " <p><a href=\"/wiki/Drew_Gilpin_Faust\" title=\"Drew Gilpin Faust\">Drew Gilpin Faust</a>, previously the dean of the <a href=\"/wiki/Radcliffe_Institute_for_Advanced_Study\" title=\"Radcliffe Institute for Advanced Study\">Radcliffe Institute for Advanced Study</a>, became Harvard's first woman president on July 1, 2007.<sup class=\"reference\" id=\"cite_ref-55\"><a href=\"#cite_note-55\">[55]</a></sup> She was succeeded by <a href=\"/wiki/Lawrence_Bacow\" title=\"Lawrence Bacow\">Lawrence Bacow</a> on July 1, 2018.<sup class=\"reference\" id=\"cite_ref-56\"><a href=\"#cite_note-56\">[56]</a></sup>\n",
       " </p>,\n",
       " <p>In February 2020, the <a href=\"/wiki/United_States_Department_of_Education\" title=\"United States Department of Education\">United States Department of Education</a> started an investigation into whether Harvard University failed to properly report hundreds of millions of dollars in foreign gifts and contracts. This investigation is part of a growing probe by US federal agencies into whether China and other countries gained inappropriate influence and access into American higher education.<sup class=\"reference\" id=\"cite_ref-57\"><a href=\"#cite_note-57\">[57]</a></sup>\n",
       " </p>,\n",
       " <p>With the launch of the Harvard Financial Aid Initiative in 2004, the 21st century also saw an increased emphasis on providing <a href=\"/wiki/Student_financial_aid_(United_States)\" title=\"Student financial aid (United States)\">financial aid</a> to promote access for students from all economic backgrounds.<sup class=\"reference\" id=\"cite_ref-58\"><a href=\"#cite_note-58\">[58]</a></sup> Since 2004, there have been several significant expansions of Harvard's financial aid program.<sup class=\"reference\" id=\"cite_ref-59\"><a href=\"#cite_note-59\">[59]</a></sup><sup class=\"reference\" id=\"cite_ref-60\"><a href=\"#cite_note-60\">[60]</a></sup><sup class=\"reference\" id=\"cite_ref-61\"><a href=\"#cite_note-61\">[61]</a></sup> As of 2020, more than half of <a href=\"/wiki/Harvard_College\" title=\"Harvard College\">Harvard College</a> students receive loan-free scholarship aid from the university.<sup class=\"reference\" id=\"cite_ref-62\"><a href=\"#cite_note-62\">[62]</a></sup>\n",
       " </p>,\n",
       " <p>Harvard's 209-acre (85 ha) main campus is centered on <a href=\"/wiki/Harvard_Yard\" title=\"Harvard Yard\">Harvard Yard</a> in Cambridge, about 3 miles (5 km) west-northwest of downtown Boston, and extends into the surrounding <a href=\"/wiki/Harvard_Square\" title=\"Harvard Square\">Harvard Square</a> neighborhood. Harvard Yard itself contains key administrative offices such as <a href=\"/wiki/University_Hall_(Harvard_University)\" title=\"University Hall (Harvard University)\">University Hall</a> and <a href=\"/wiki/Massachusetts_Hall_(Harvard_University)\" title=\"Massachusetts Hall (Harvard University)\">Massachusetts Hall</a>; libraries such as <a href=\"/wiki/Widener_Library\" title=\"Widener Library\">Widener</a>, <a class=\"new\" href=\"/w/index.php?title=Pusey_Library&amp;action=edit&amp;redlink=1\" title=\"Pusey Library (page does not exist)\">Pusey</a>, <a href=\"/wiki/Houghton_Library\" title=\"Houghton Library\">Houghton</a>, and <a href=\"/wiki/Lamont_Library\" title=\"Lamont Library\">Lamont</a>; <a href=\"/wiki/Memorial_Church_of_Harvard_University\" title=\"Memorial Church of Harvard University\">Memorial Church</a>; academic buildings such as <a href=\"/wiki/Sever_Hall\" title=\"Sever Hall\">Sever Hall</a> and <a class=\"mw-redirect\" href=\"/wiki/Harvard_Hall_(Harvard_University)\" title=\"Harvard Hall (Harvard University)\">Harvard Hall</a>; and most <a class=\"mw-redirect\" href=\"/wiki/List_of_Harvard_dormitories\" title=\"List of Harvard dormitories\">freshman dormitories</a>. Sophomore, junior, and senior undergraduates live in twelve <a class=\"mw-redirect\" href=\"/wiki/Harvard_House_system\" title=\"Harvard House system\">residential houses</a>, nine of which are south of Harvard Yard along or near the <a href=\"/wiki/Charles_River\" title=\"Charles River\">Charles River</a>. The other three are located in a residential neighborhood half a mile northwest of the Yard at the <a class=\"mw-redirect\" href=\"/wiki/Quadrangle_(Harvard)\" title=\"Quadrangle (Harvard)\">Quadrangle</a> (commonly referred to as the \"Quad\") which housed <a href=\"/wiki/Radcliffe_College\" title=\"Radcliffe College\">Radcliffe College</a> students until Radcliffe merged its residential system with Harvard. Each residential house is a community with undergraduates, faculty deans, and resident tutors, as well as a dining hall, library, and recreational spaces.<sup class=\"reference\" id=\"cite_ref-63\"><a href=\"#cite_note-63\">[63]</a></sup> The houses were made possible by a gift from <a href=\"/wiki/Yale_University\" title=\"Yale University\">Yale University</a> alumnus <a href=\"/wiki/Edward_Harkness\" title=\"Edward Harkness\">Edward Harkness</a>.<sup class=\"reference\" id=\"cite_ref-64\"><a href=\"#cite_note-64\">[64]</a></sup>\n",
       " </p>,\n",
       " <p><a class=\"new\" href=\"/w/index.php?title=Radcliffe_Yard&amp;action=edit&amp;redlink=1\" title=\"Radcliffe Yard (page does not exist)\">Radcliffe Yard</a>, formerly the center of the campus of Radcliffe College and now home to Harvard's <a href=\"/wiki/Radcliffe_Institute_for_Advanced_Study\" title=\"Radcliffe Institute for Advanced Study\">Radcliffe Institute for Advanced Study</a>,<sup class=\"reference\" id=\"cite_ref-65\"><a href=\"#cite_note-65\">[65]</a></sup> is adjacent to the <a href=\"/wiki/Harvard_Graduate_School_of_Education\" title=\"Harvard Graduate School of Education\">Graduate School of Education</a> and the <a href=\"/wiki/Cambridge_Common\" title=\"Cambridge Common\">Cambridge Common</a>.\n",
       " </p>,\n",
       " <p>Between 2014 and 2016, Harvard University reported crime statistics for its main Cambridge campus that included 141 forcible sex offenses, 33 robberies, 46 aggravated assaults, 151 burglaries, and 32 cases of motor vehicle theft.<sup class=\"reference\" id=\"cite_ref-66\"><a href=\"#cite_note-66\">[66]</a></sup>\n",
       " </p>,\n",
       " <p>Harvard also has commercial real estate holdings in Cambridge and Allston, on which it pays property taxes.<sup class=\"reference\" id=\"cite_ref-67\"><a href=\"#cite_note-67\">[67]</a></sup>  This includes the Allston <a class=\"mw-redirect\" href=\"/wiki/Doubletree_Hotel\" title=\"Doubletree Hotel\">Doubletree Hotel</a>, The Inn at Harvard, and the Harvard Square Hotel.<sup class=\"reference\" id=\"cite_ref-68\"><a href=\"#cite_note-68\">[68]</a></sup>\n",
       " </p>,\n",
       " <p><a href=\"/wiki/Harvard_Business_School\" title=\"Harvard Business School\">Harvard Business School</a> and many athletics facilities, including <a href=\"/wiki/Harvard_Stadium\" title=\"Harvard Stadium\">Harvard Stadium</a>, are located on a 358-acre (145 ha) campus in <a class=\"mw-redirect\" href=\"/wiki/Allston,_Massachusetts\" title=\"Allston, Massachusetts\">Allston</a>,<sup class=\"reference\" id=\"cite_ref-69\"><a href=\"#cite_note-69\">[69]</a></sup> a Boston neighborhood just across the Charles River from the Cambridge campus. The <a href=\"/wiki/John_W._Weeks_Bridge\" title=\"John W. Weeks Bridge\">John W. Weeks Bridge</a>, a pedestrian bridge over the <a href=\"/wiki/Charles_River\" title=\"Charles River\">Charles River</a>, connects the two campuses.\n",
       " </p>,\n",
       " <p>Intending a major expansion, Harvard now owns more land in Allston than it does in Cambridge.<sup class=\"reference\" id=\"cite_ref-70\"><a href=\"#cite_note-70\">[70]</a></sup> A ten-year plan calls for 1.4 million square feet (130,000 square meters) of new construction and 500,000 square feet (50,000 square meters) of renovations, including new and renovated buildings at <a href=\"/wiki/Harvard_Business_School\" title=\"Harvard Business School\">Harvard Business School</a>, a hotel and conference center, a multipurpose institutional building, renovations to graduate student housing and <a href=\"/wiki/Harvard_Stadium\" title=\"Harvard Stadium\">Harvard Stadium</a>, new athletics facilities, new laboratories and classrooms for the <a href=\"/wiki/Harvard_John_A._Paulson_School_of_Engineering_and_Applied_Sciences\" title=\"Harvard John A. Paulson School of Engineering and Applied Sciences\">Harvard John A. Paulson School of Engineering and Applied Sciences</a> (SEAS), expansion of the Harvard Education Portal, and a <a href=\"/wiki/District_heating\" title=\"District heating\">district energy</a> facility.<sup class=\"reference\" id=\"cite_ref-71\"><a href=\"#cite_note-71\">[71]</a></sup>\n",
       " </p>,\n",
       " <p>In June 2020, SEAS will expand into the new, 500,000+ square foot Science and Engineering Complex (SEC) in Allston.<sup class=\"reference\" id=\"cite_ref-RuthJia_72-0\"><a href=\"#cite_note-RuthJia-72\">[72]</a></sup> The SEC will be adjacent to the Enterprise Research Campus in synergy with <a href=\"/wiki/Harvard_Business_School\" title=\"Harvard Business School\">Harvard Business School</a> and the <a href=\"/wiki/Harvard_Innovation_Labs\" title=\"Harvard Innovation Labs\">Harvard Innovation Lab</a> to encourage technology- and life science-focused startups as well as collaborations with mature companies.<sup class=\"reference\" id=\"cite_ref-73\"><a href=\"#cite_note-73\">[73]</a></sup>\n",
       " </p>,\n",
       " <p><a href=\"/wiki/Harvard_Medical_School\" title=\"Harvard Medical School\">Harvard Medical School</a>, the <a href=\"/wiki/Harvard_School_of_Dental_Medicine\" title=\"Harvard School of Dental Medicine\">Harvard School of Dental Medicine</a>, and the <a href=\"/wiki/Harvard_T.H._Chan_School_of_Public_Health\" title=\"Harvard T.H. Chan School of Public Health\">Harvard T.H. Chan School of Public Health</a> are located on a 21-acre (8.5 ha) campus in the Longwood Medical and Academic Area in Boston about 3.3 miles (5.3 km) south of the Cambridge campus.<sup class=\"reference\" id=\"cite_ref-Campus_18-1\"><a href=\"#cite_note-Campus-18\">[18]</a></sup> Several of Harvard's affiliated hospitals and research institutes are also in Longwood, including <a href=\"/wiki/Beth_Israel_Deaconess_Medical_Center\" title=\"Beth Israel Deaconess Medical Center\">Beth Israel Deaconess Medical Center</a>, <a href=\"/wiki/Boston_Children%27s_Hospital\" title=\"Boston Children's Hospital\">Boston Children's Hospital</a>, <a href=\"/wiki/Brigham_and_Women%27s_Hospital\" title=\"Brigham and Women's Hospital\">Brigham and Women's Hospital</a>, <a href=\"/wiki/Dana%E2%80%93Farber_Cancer_Institute\" title=\"Dana–Farber Cancer Institute\">Dana–Farber Cancer Institute</a>, <a href=\"/wiki/Joslin_Diabetes_Center\" title=\"Joslin Diabetes Center\">Joslin Diabetes Center</a>, and the <a href=\"/wiki/Wyss_Institute_for_Biologically_Inspired_Engineering\" title=\"Wyss Institute for Biologically Inspired Engineering\">Wyss Institute for Biologically Inspired Engineering</a>. Additional affiliates, most notably <a href=\"/wiki/Massachusetts_General_Hospital\" title=\"Massachusetts General Hospital\">Massachusetts General Hospital</a>, are located throughout the Greater Boston area.\n",
       " </p>,\n",
       " <p>Harvard also owns and operates the <a href=\"/wiki/Dumbarton_Oaks\" title=\"Dumbarton Oaks\">Dumbarton Oaks Research Library and Collection</a> in <a href=\"/wiki/Washington,_D.C.\" title=\"Washington, D.C.\">Washington, D.C.</a>, the <a href=\"/wiki/Harvard_Forest\" title=\"Harvard Forest\">Harvard Forest</a> in <a href=\"/wiki/Petersham,_Massachusetts\" title=\"Petersham, Massachusetts\">Petersham, Massachusetts</a>, the Concord Field Station in <a href=\"/wiki/Estabrook_Woods\" title=\"Estabrook Woods\">Estabrook Woods</a> in <a href=\"/wiki/Concord,_Massachusetts\" title=\"Concord, Massachusetts\">Concord, Massachusetts</a>,<sup class=\"reference\" id=\"cite_ref-74\"><a href=\"#cite_note-74\">[74]</a></sup> the <a href=\"/wiki/Villa_I_Tatti\" title=\"Villa I Tatti\">Villa I Tatti</a> research center in <a href=\"/wiki/Florence\" title=\"Florence\">Florence</a>, Italy,<sup class=\"reference\" id=\"cite_ref-75\"><a href=\"#cite_note-75\">[75]</a></sup> the Harvard Shanghai Center in <a href=\"/wiki/Shanghai\" title=\"Shanghai\">Shanghai</a>, China,<sup class=\"reference\" id=\"cite_ref-76\"><a href=\"#cite_note-76\">[76]</a></sup> and the <a href=\"/wiki/Arnold_Arboretum\" title=\"Arnold Arboretum\">Arnold Arboretum</a> in the <a class=\"mw-redirect\" href=\"/wiki/Jamaica_Plain,_Massachusetts\" title=\"Jamaica Plain, Massachusetts\">Jamaica Plain</a> neighborhood of Boston.\n",
       " </p>,\n",
       " <p>Harvard is governed by a combination of its <a href=\"/wiki/Harvard_Board_of_Overseers\" title=\"Harvard Board of Overseers\">Board of Overseers</a> and the <a href=\"/wiki/President_and_Fellows_of_Harvard_College\" title=\"President and Fellows of Harvard College\">President and Fellows of Harvard College</a> (also known as the Harvard Corporation), which in turn appoints the <a href=\"/wiki/President_of_Harvard_University\" title=\"President of Harvard University\">President of Harvard University</a>.<sup class=\"reference\" id=\"cite_ref-BethellHunt2009p_77-0\"><a href=\"#cite_note-BethellHunt2009p-77\">[77]</a></sup> There are 16,000 staff and faculty,<sup class=\"reference\" id=\"cite_ref-78\"><a href=\"#cite_note-78\">[78]</a></sup>\n",
       " including 2,400 professors, lecturers, and instructors.<sup class=\"reference\" id=\"cite_ref-79\"><a href=\"#cite_note-79\">[79]</a></sup>\n",
       " </p>,\n",
       " <p>The <a href=\"/wiki/Harvard_Faculty_of_Arts_and_Sciences\" title=\"Harvard Faculty of Arts and Sciences\">Faculty of Arts and Sciences</a> is the largest Harvard faculty and has primary responsibility for instruction in <a href=\"/wiki/Harvard_College\" title=\"Harvard College\">Harvard College</a>, the <a href=\"/wiki/Harvard_Graduate_School_of_Arts_and_Sciences\" title=\"Harvard Graduate School of Arts and Sciences\">Graduate School of Arts and Sciences</a>, and the <a href=\"/wiki/Harvard_Division_of_Continuing_Education\" title=\"Harvard Division of Continuing Education\">Division of Continuing Education</a>, which includes <a href=\"/wiki/Harvard_Summer_School\" title=\"Harvard Summer School\">Harvard Summer School</a> and <a href=\"/wiki/Harvard_Extension_School\" title=\"Harvard Extension School\">Harvard Extension School</a>. There are nine other graduate and professional faculties as well as the <a href=\"/wiki/Radcliffe_Institute_for_Advanced_Study\" title=\"Radcliffe Institute for Advanced Study\">Radcliffe Institute for Advanced Study</a>.\n",
       " </p>,\n",
       " <p>Joint programs with the <a href=\"/wiki/Massachusetts_Institute_of_Technology\" title=\"Massachusetts Institute of Technology\">Massachusetts Institute of Technology</a> include the <a href=\"/wiki/Harvard%E2%80%93MIT_Program_in_Health_Sciences_and_Technology\" title=\"Harvard–MIT Program in Health Sciences and Technology\">Harvard–MIT Program in Health Sciences and Technology</a>, the <a href=\"/wiki/Broad_Institute\" title=\"Broad Institute\">Broad Institute</a>, <a href=\"/wiki/The_Observatory_of_Economic_Complexity\" title=\"The Observatory of Economic Complexity\">The Observatory of Economic Complexity</a>, and <a href=\"/wiki/EdX\" title=\"EdX\">edX</a>.\n",
       " </p>,\n",
       " <p>Harvard has the largest <a href=\"/wiki/List_of_colleges_and_universities_in_the_United_States_by_endowment\" title=\"List of colleges and universities in the United States by endowment\">university endowment</a> in the world, valued at about $40.9 billion as of 2019.<sup class=\"reference\" id=\"cite_ref-Endowment_4-2\"><a href=\"#cite_note-Endowment-4\">[4]</a></sup> During the <a href=\"/wiki/Great_Recession\" title=\"Great Recession\">Great Recession</a>, it suffered significant losses that forced large budget cuts, but the endowment has since recovered.<sup class=\"reference\" id=\"cite_ref-80\"><a href=\"#cite_note-80\">[80]</a></sup><sup class=\"reference\" id=\"cite_ref-NACUBO_81-0\"><a href=\"#cite_note-NACUBO-81\">[81]</a></sup><sup class=\"reference\" id=\"cite_ref-82\"><a href=\"#cite_note-82\">[82]</a></sup><sup class=\"reference\" id=\"cite_ref-83\"><a href=\"#cite_note-83\">[83]</a></sup><sup class=\"reference\" id=\"cite_ref-vanity_84-0\"><a href=\"#cite_note-vanity-84\">[84]</a></sup><sup class=\"reference\" id=\"cite_ref-ForbesUndEnd_85-0\"><a href=\"#cite_note-ForbesUndEnd-85\">[85]</a></sup> One of the most visible results of Harvard's attempt to re-balance its budget was their halting<sup class=\"reference\" id=\"cite_ref-vanity_84-1\"><a href=\"#cite_note-vanity-84\">[84]</a></sup> of construction of the $1.2 billion Allston Science Complex that had been scheduled to be completed by 2011, resulting in protests from local residents.<sup class=\"reference\" id=\"cite_ref-86\"><a href=\"#cite_note-86\">[86]</a></sup>\n",
       " </p>,\n",
       " <p>Since 2016, Narv Narvekar has been the <a class=\"mw-redirect\" href=\"/wiki/CEO\" title=\"CEO\">CEO</a> of the endowment.<sup class=\"reference\" id=\"cite_ref-about_endowment_87-0\"><a href=\"#cite_note-about_endowment-87\">[87]</a></sup> Almost $2 billion annually is distributed from the endowment to fund operations.<sup class=\"reference\" id=\"cite_ref-about_endowment_87-1\"><a href=\"#cite_note-about_endowment-87\">[87]</a></sup> Harvard's ability to fund its degree and financial aid programs is highly dependent on the performance of its endowment; a poor performance in fiscal year 2016 led to a 4.4% cut in the number of graduate students funded by the <a class=\"mw-redirect\" href=\"/wiki/Faculty_of_Arts_and_Sciences\" title=\"Faculty of Arts and Sciences\">Faculty of Arts and Sciences</a>.<sup class=\"reference\" id=\"cite_ref-88\"><a href=\"#cite_note-88\">[88]</a></sup> Endowment income is critical as only 22% of revenue is from tuition, fees, room, and board.<sup class=\"reference\" id=\"cite_ref-89\"><a href=\"#cite_note-89\">[89]</a></sup>\n",
       " </p>,\n",
       " <p>Since the 1970s, several campaigns have sought to <a href=\"/wiki/Divestment\" title=\"Divestment\">divest</a> Harvard's endowment from holdings the campaigns opposed, including investments in <a href=\"/wiki/Apartheid\" title=\"Apartheid\">apartheid</a> <a href=\"/wiki/South_Africa\" title=\"South Africa\">South Africa</a>, the <a href=\"/wiki/Tobacco_industry\" title=\"Tobacco industry\">tobacco industry</a>, <a href=\"/wiki/Sudan\" title=\"Sudan\">Sudan</a> during the <a href=\"/wiki/Darfur_genocide\" title=\"Darfur genocide\">Darfur genocide</a>, the <a href=\"/wiki/Fossil_fuel\" title=\"Fossil fuel\">fossil fuel</a> industry, and the <a href=\"/wiki/Private_prison\" title=\"Private prison\">private prison</a> industry.<sup class=\"reference\" id=\"cite_ref-90\"><a href=\"#cite_note-90\">[90]</a></sup><sup class=\"reference\" id=\"cite_ref-91\"><a href=\"#cite_note-91\">[91]</a></sup>\n",
       " </p>,\n",
       " <p>During the <a class=\"mw-redirect\" href=\"/wiki/Divestment_from_South_Africa\" title=\"Divestment from South Africa\">divestment from South Africa</a> movement in the late 1980s, student activists erected a symbolic \"shantytown\" on Harvard Yard and blockaded a speech by South African Vice Consul Duke Kent-Brown.<sup class=\"reference\" id=\"cite_ref-GeorgeKaufman2012_92-0\"><a href=\"#cite_note-GeorgeKaufman2012-92\">[92]</a></sup><sup class=\"reference\" id=\"cite_ref-93\"><a href=\"#cite_note-93\">[93]</a></sup> But the Harvard Management Company repeatedly refused to divest, responding that \"operating expenses must not be subject to financially unrealistic strictures or carping by the unsophisticated or by special interest groups.\"<sup class=\"reference\" id=\"cite_ref-Trumpbour1989_94-0\"><a href=\"#cite_note-Trumpbour1989-94\">[94]</a></sup> Eventually, the university reduced its South African holdings by $230 million (out of $400 million) in response to the pressure.<sup class=\"reference\" id=\"cite_ref-GeorgeKaufman2012_92-1\"><a href=\"#cite_note-GeorgeKaufman2012-92\">[92]</a></sup><sup class=\"reference\" id=\"cite_ref-Waters2009_95-0\"><a href=\"#cite_note-Waters2009-95\">[95]</a></sup>\n",
       " </p>,\n",
       " <p>Harvard's <a href=\"/wiki/Harvard_College\" title=\"Harvard College\">undergraduate</a> admissions process is characterized by the Carnegie Foundation as \"more selective, lower transfer-in.\"<sup class=\"reference\" id=\"cite_ref-Carnegie_19-1\"><a href=\"#cite_note-Carnegie-19\">[19]</a></sup> Admission is based on academic prowess, extracurricular activities, and personal qualities. For the undergraduate class of 2022, Harvard had 42,749 applicants, accepting 2,024 (4.7%) and enrolling 1,653.<sup class=\"reference\" id=\"cite_ref-CDS_96-0\"><a href=\"#cite_note-CDS-96\">[96]</a></sup>  The middle 50% range of <a href=\"/wiki/SAT\" title=\"SAT\">SAT</a> scores of enrolled freshmen was 720–780 for reading and writing and 740–800 for math, while the middle 50% range of the <a href=\"/wiki/ACT_(test)\" title=\"ACT (test)\">ACT</a> composite score was 33–35.<sup class=\"reference\" id=\"cite_ref-CDS_96-1\"><a href=\"#cite_note-CDS-96\">[96]</a></sup>  The average high school grade point average (<a class=\"mw-redirect\" href=\"/wiki/GPA\" title=\"GPA\">GPA</a>) was 4.18.<sup class=\"reference\" id=\"cite_ref-CDS_96-2\"><a href=\"#cite_note-CDS-96\">[96]</a></sup>\n",
       " </p>,\n",
       " <p>Harvard College ended its <a href=\"/wiki/Early_admission\" title=\"Early admission\">early admissions</a> program in 2007 as the program was believed to disadvantage low-income and minority applicants applying to selective universities, but for the class of 2016 and beyond, an early action program was reintroduced.<sup class=\"reference\" id=\"cite_ref-97\"><a href=\"#cite_note-97\">[97]</a></sup> The freshman class that entered in the fall of 2017 was the first to be predominantly (50.8%) nonwhite.<sup class=\"reference\" id=\"cite_ref-98\"><a href=\"#cite_note-98\">[98]</a></sup>\n",
       " </p>,\n",
       " <p>A federal lawsuit alleges that Harvard's admissions policies discriminate against Asian Americans, who tend to be overrepresented among students with high academic achievement.<sup class=\"reference\" id=\"cite_ref-99\"><a href=\"#cite_note-99\">[99]</a></sup><sup class=\"reference\" id=\"cite_ref-100\"><a href=\"#cite_note-100\">[100]</a></sup> A 2019 district court decision in the case (which has since been appealed) found no evidence of explicit racial bias but did not rule out a small amount of <a class=\"mw-redirect\" href=\"/wiki/Implicit_bias\" title=\"Implicit bias\">implicit bias</a>.<sup class=\"reference\" id=\"cite_ref-101\"><a href=\"#cite_note-101\">[101]</a></sup> Harvard has implemented more implicit bias training for its admissions staff in accordance with the court's recommendations.<sup class=\"reference\" id=\"cite_ref-102\"><a href=\"#cite_note-102\">[102]</a></sup><sup class=\"reference\" id=\"cite_ref-103\"><a href=\"#cite_note-103\">[103]</a></sup>\n",
       " </p>,\n",
       " <p>Harvard's <a href=\"/wiki/Legacy_preferences\" title=\"Legacy preferences\">admissions preference for children of alumni</a>, employees, and donors has been criticized as favoring white and wealthy candidates.<sup class=\"reference\" id=\"cite_ref-The_Wall_Street_Journal_104-0\"><a href=\"#cite_note-The_Wall_Street_Journal-104\">[104]</a></sup><sup class=\"reference\" id=\"cite_ref-105\"><a href=\"#cite_note-105\">[105]</a></sup> One study based on data made public by the lawsuit found that from 2014 to 2019, 43% of white students admitted were children of alumni or employees, relatives of donors, or recruited athletes. The authors estimated about three-quarters of these students would have been rejected had they been considered as white students not falling into one of these categories.<sup class=\"reference\" id=\"cite_ref-106\"><a href=\"#cite_note-106\">[106]</a></sup>\n",
       " </p>,\n",
       " <p>As of the 2019–2020 academic year, <a href=\"/wiki/Harvard_College\" title=\"Harvard College\">Harvard College</a> tuition was about $48,000, contributing to about $70,000 in billed costs.<sup class=\"reference\" id=\"cite_ref-Costs_and_Tuition_20-1\"><a href=\"#cite_note-Costs_and_Tuition-20\">[20]</a></sup> Harvard's extensive fundraising allows it to offer one of the most generous financial aid programs in the country, with <a href=\"/wiki/Need-blind_admission\" title=\"Need-blind admission\">need-blind admission</a> and 100% of demonstrated financial need met for both domestic and international students.<sup class=\"reference\" id=\"cite_ref-Costs_and_Tuition_20-2\"><a href=\"#cite_note-Costs_and_Tuition-20\">[20]</a></sup> Families with incomes below $65,000 pay nothing for their children to attend, while families earning between $65,000 and $150,000 pay no more than 10% of their annual incomes.<sup class=\"reference\" id=\"cite_ref-Costs_and_Tuition_20-3\"><a href=\"#cite_note-Costs_and_Tuition-20\">[20]</a></sup> Financial aid is solely based on need; no merit or athletic scholarships are offered.<sup class=\"reference\" id=\"cite_ref-Costs_and_Tuition_20-4\"><a href=\"#cite_note-Costs_and_Tuition-20\">[20]</a></sup>\n",
       " </p>,\n",
       " <p>Harvard is a large, highly residential research university.<sup class=\"reference\" id=\"cite_ref-Carnegie_19-2\"><a href=\"#cite_note-Carnegie-19\">[19]</a></sup> The university has been <a href=\"/wiki/Accreditation\" title=\"Accreditation\">accredited</a> by the <a href=\"/wiki/New_England_Association_of_Schools_and_Colleges\" title=\"New England Association of Schools and Colleges\">New England Association of Schools and Colleges</a> since 1929<sup class=\"reference\" id=\"cite_ref-108\"><a href=\"#cite_note-108\">[108]</a></sup> and offers 50 <a href=\"/wiki/Harvard_College\" title=\"Harvard College\">undergraduate</a> concentrations (majors),<sup class=\"reference\" id=\"cite_ref-109\"><a href=\"#cite_note-109\">[109]</a></sup> 134 graduate degrees,<sup class=\"reference\" id=\"cite_ref-110\"><a href=\"#cite_note-110\">[110]</a></sup> and 32 professional degrees.<sup class=\"reference\" id=\"cite_ref-Degrees_111-0\"><a href=\"#cite_note-Degrees-111\">[111]</a></sup> For the 2018–2019 academic year, Harvard granted 1,665 baccalaureate degrees, 1,013 graduate degrees, and 5,695 professional degrees.<sup class=\"reference\" id=\"cite_ref-Degrees_111-1\"><a href=\"#cite_note-Degrees-111\">[111]</a></sup>\n",
       " </p>,\n",
       " <p>The four-year, full-time <a href=\"/wiki/Harvard_College\" title=\"Harvard College\">undergraduate program</a> has an arts and sciences instructional focus.<sup class=\"reference\" id=\"cite_ref-Carnegie_19-3\"><a href=\"#cite_note-Carnegie-19\">[19]</a></sup> Between 1978 and 2008, entering students were required to complete a core curriculum of seven classes outside of their concentration.<sup class=\"reference\" id=\"cite_ref-112\"><a href=\"#cite_note-112\">[112]</a></sup> Between 2008 and 2019, undergraduate students were required to complete courses in eight General Education categories: Aesthetic and Interpretive Understanding, Culture and Belief, Empirical and Mathematical Reasoning, Ethical Reasoning, Science of Living Systems, Science of the Physical Universe, Societies of the World, and United States in the World.<sup class=\"reference\" id=\"cite_ref-113\"><a href=\"#cite_note-113\">[113]</a></sup> In 2019, a new General Education program was implemented with four categories: \"Aesthetics and Culture,\" \"Ethics and Civics,\" \"Histories, Societies, Individuals,\" and \"Science and Technology in Society.\"<sup class=\"reference\" id=\"cite_ref-114\"><a href=\"#cite_note-114\">[114]</a></sup> Although some introductory courses have large enrollments, most courses are small: the median class size is just 12 students.<sup class=\"reference\" id=\"cite_ref-115\"><a href=\"#cite_note-115\">[115]</a></sup>\n",
       " </p>,\n",
       " <p>Harvard's academic programs operate on a <a class=\"mw-redirect\" href=\"/wiki/Semester#Collegiate_calendars\" title=\"Semester\">semester calendar</a> beginning in early September and ending in mid-May.<sup class=\"reference\" id=\"cite_ref-116\"><a href=\"#cite_note-116\">[116]</a></sup> <a href=\"/wiki/Harvard_College\" title=\"Harvard College\">Undergraduates</a> typically take four courses per term to graduate on time.<sup class=\"reference\" id=\"cite_ref-117\"><a href=\"#cite_note-117\">[117]</a></sup> In most concentrations, students can pursue either a basic program or an honors-eligible program requiring a senior thesis and advanced coursework.<sup class=\"reference\" id=\"cite_ref-118\"><a href=\"#cite_note-118\">[118]</a></sup> Harvard hosts chapters of academic honor societies such as <a href=\"/wiki/Phi_Beta_Kappa\" title=\"Phi Beta Kappa\">Phi Beta Kappa</a> as well as various committees and departments that award hundreds of named prizes annually.<sup class=\"reference\" id=\"cite_ref-119\"><a href=\"#cite_note-119\">[119]</a></sup> Along with other universities, Harvard has been accused of <a href=\"/wiki/Grade_inflation\" title=\"Grade inflation\">grade inflation</a>,<sup class=\"reference\" id=\"cite_ref-120\"><a href=\"#cite_note-120\">[120]</a></sup> although there is evidence that the quality of its student body has also increased.<sup class=\"reference\" id=\"cite_ref-121\"><a href=\"#cite_note-121\">[121]</a></sup> The number of students who receive <a href=\"/wiki/Latin_honors\" title=\"Latin honors\">Latin honors</a> was reduced from 90% to 60% in 2005. Moreover, the honors of \"John Harvard Scholar\" and \"Harvard College Scholar\" are now given only to the top 5 percent and the next 5 percent of each class.<sup class=\"reference\" id=\"cite_ref-122\"><a href=\"#cite_note-122\">[122]</a></sup><sup class=\"reference\" id=\"cite_ref-123\"><a href=\"#cite_note-123\">[123]</a></sup><sup class=\"reference\" id=\"cite_ref-124\"><a href=\"#cite_note-124\">[124]</a></sup><sup class=\"reference\" id=\"cite_ref-125\"><a href=\"#cite_note-125\">[125]</a></sup>\n",
       " </p>,\n",
       " <p>University policy is to expel students engaging in <a href=\"/wiki/Academic_dishonesty\" title=\"Academic dishonesty\">academic dishonesty</a> to discourage a \"culture of cheating.\"<sup class=\"reference\" id=\"cite_ref-Crimson1_126-0\"><a href=\"#cite_note-Crimson1-126\">[126]</a></sup><sup class=\"reference\" id=\"cite_ref-ABCNews_127-0\"><a href=\"#cite_note-ABCNews-127\">[127]</a></sup><sup class=\"reference\" id=\"cite_ref-Crimson2_128-0\"><a href=\"#cite_note-Crimson2-128\">[128]</a></sup>\n",
       " In 2012, dozens of students were <a href=\"/wiki/2012_Harvard_cheating_scandal\" title=\"2012 Harvard cheating scandal\">expelled for cheating</a> after an investigation of more than 120 students.<sup class=\"reference\" id=\"cite_ref-NYTimes1_129-0\"><a href=\"#cite_note-NYTimes1-129\">[129]</a></sup> In 2013, a survey suggested that 42% of incoming freshmen had cheated on homework prior to entering the university.<sup class=\"reference\" id=\"cite_ref-130\"><a href=\"#cite_note-130\">[130]</a></sup> These incidents prompted the university to adopt an <a class=\"mw-redirect\" href=\"/wiki/Honor_code#Academic_honor_codes\" title=\"Honor code\">honor code</a>,<sup class=\"reference\" id=\"cite_ref-Crimson2_128-1\"><a href=\"#cite_note-Crimson2-128\">[128]</a></sup><sup class=\"reference\" id=\"cite_ref-131\"><a href=\"#cite_note-131\">[131]</a></sup><sup class=\"reference\" id=\"cite_ref-132\"><a href=\"#cite_note-132\">[132]</a></sup> and the number of alleged academic violations has since decreased.<sup class=\"reference\" id=\"cite_ref-133\"><a href=\"#cite_note-133\">[133]</a></sup>\n",
       " </p>,\n",
       " <p>Harvard students (excluding <a href=\"/wiki/Harvard_Extension_School\" title=\"Harvard Extension School\">Extension School</a> and <a href=\"/wiki/Harvard_Summer_School\" title=\"Harvard Summer School\">Summer School</a> students) may cross-register for classes at the neighboring <a href=\"/wiki/Massachusetts_Institute_of_Technology\" title=\"Massachusetts Institute of Technology\">Massachusetts Institute of Technology</a>.<sup class=\"reference\" id=\"cite_ref-134\"><a href=\"#cite_note-134\">[134]</a></sup>\n",
       " </p>,\n",
       " <p>Harvard is a founding member of the <a href=\"/wiki/Association_of_American_Universities\" title=\"Association of American Universities\">Association of American Universities</a><sup class=\"reference\" id=\"cite_ref-135\"><a href=\"#cite_note-135\">[135]</a></sup> and remains a preeminent research university with \"very high\" research activity (R1) and comprehensive doctoral programs across the arts, sciences, engineering, and medicine according to the Carnegie Classification.<sup class=\"reference\" id=\"cite_ref-Carnegie_19-4\"><a href=\"#cite_note-Carnegie-19\">[19]</a></sup>\n",
       " </p>,\n",
       " <p>With <a href=\"/wiki/Harvard_Medical_School\" title=\"Harvard Medical School\">Harvard Medical School</a> consistently ranking first among medical schools for research,<sup class=\"reference\" id=\"cite_ref-136\"><a href=\"#cite_note-136\">[136]</a></sup> biomedical research is an area of particular strength for the university. More than 11,000 faculty members and over 1,600 medical and graduate students contribute to discovery and innovation at Harvard Medical School as well as its 15 affiliated hospitals and research institutes.<sup class=\"reference\" id=\"cite_ref-137\"><a href=\"#cite_note-137\">[137]</a></sup> Harvard Medical School and its affiliates attracted $1.65 billion in competitive research grants from the <a href=\"/wiki/National_Institutes_of_Health\" title=\"National Institutes of Health\">National Institutes of Health</a> in 2019, more than twice as much as any other university.<sup class=\"reference\" id=\"cite_ref-138\"><a href=\"#cite_note-138\">[138]</a></sup>\n",
       " </p>,\n",
       " <p>Research opportunities are available to undergraduates as well, as early as their freshman year.<sup class=\"reference\" id=\"cite_ref-undergrad_139-0\"><a href=\"#cite_note-undergrad-139\">[139]</a></sup> Numerous mechanisms for funding and faculty mentorship are available during both term-time and the summer.<sup class=\"reference\" id=\"cite_ref-undergrad_139-1\"><a href=\"#cite_note-undergrad-139\">[139]</a></sup>\n",
       " </p>,\n",
       " <p>The <a href=\"/wiki/Harvard_Library\" title=\"Harvard Library\">Harvard Library</a> system is centered in <a href=\"/wiki/Widener_Library\" title=\"Widener Library\">Widener Library</a> in <a href=\"/wiki/Harvard_Yard\" title=\"Harvard Yard\">Harvard Yard</a> and comprises nearly 80 individual libraries holding about 20.4 million items.<sup class=\"reference\" id=\"cite_ref-hlar_21-1\"><a href=\"#cite_note-hlar-21\">[21]</a></sup><sup class=\"reference\" id=\"cite_ref-largestlibs_22-1\"><a href=\"#cite_note-largestlibs-22\">[22]</a></sup><sup class=\"reference\" id=\"cite_ref-Harvard_Media_Relations_24-1\"><a href=\"#cite_note-Harvard_Media_Relations-24\">[24]</a></sup> According to the <a href=\"/wiki/American_Library_Association\" title=\"American Library Association\">American Library Association</a>, this makes it the largest academic library in the world.<sup class=\"reference\" id=\"cite_ref-largestlibs_22-2\"><a href=\"#cite_note-largestlibs-22\">[22]</a></sup><sup class=\"reference\" id=\"cite_ref-glance_5-2\"><a href=\"#cite_note-glance-5\">[5]</a></sup>\n",
       " </p>,\n",
       " <p>\n",
       " Houghton Library, the Arthur and Elizabeth Schlesinger Library on the History of Women in America, and the Harvard University Archives consist principally of rare and unique materials. America's oldest collection of maps, gazetteers, and atlases both old and new is stored in Pusey Library and open to the public. The largest collection of <a href=\"/wiki/East_Asia\" title=\"East Asia\">East-Asian</a> language material outside of East Asia is held in the <a class=\"mw-redirect\" href=\"/wiki/Harvard-Yenching_Library\" title=\"Harvard-Yenching Library\">Harvard-Yenching Library</a>.</p>,\n",
       " <p>The <a href=\"/wiki/Harvard_Art_Museums\" title=\"Harvard Art Museums\">Harvard Art Museums</a> comprise three museums. The <a class=\"mw-redirect\" href=\"/wiki/Arthur_M._Sackler_Museum\" title=\"Arthur M. Sackler Museum\">Arthur M. Sackler Museum</a> covers Asian, Mediterranean, and Islamic art, the <a class=\"mw-redirect\" href=\"/wiki/Busch%E2%80%93Reisinger_Museum\" title=\"Busch–Reisinger Museum\">Busch–Reisinger Museum</a> (formerly the Germanic Museum) covers central and northern European art, and the <a class=\"mw-redirect\" href=\"/wiki/Fogg_Museum\" title=\"Fogg Museum\">Fogg Museum</a> covers Western art from the Middle Ages to the present emphasizing Italian <a class=\"mw-redirect\" href=\"/wiki/Early_Renaissance_painting\" title=\"Early Renaissance painting\">early Renaissance</a>, British <a class=\"mw-redirect\" href=\"/wiki/Pre-Raphaelite\" title=\"Pre-Raphaelite\">pre-Raphaelite</a>, and 19th-century French art. The <a href=\"/wiki/Harvard_Museum_of_Natural_History\" title=\"Harvard Museum of Natural History\">Harvard Museum of Natural History</a> includes the <a href=\"/wiki/Harvard_Mineralogical_Museum\" title=\"Harvard Mineralogical Museum\">Harvard Mineralogical Museum</a>, the <a href=\"/wiki/Harvard_University_Herbaria\" title=\"Harvard University Herbaria\">Harvard University Herbaria</a> featuring the <a href=\"/wiki/Leopold_and_Rudolf_Blaschka\" title=\"Leopold and Rudolf Blaschka\">Blaschka</a> <a href=\"/wiki/Glass_Flowers\" title=\"Glass Flowers\">Glass Flowers</a> exhibit, and the <a href=\"/wiki/Museum_of_Comparative_Zoology\" title=\"Museum of Comparative Zoology\">Museum of Comparative Zoology</a>. Other museums include the <a href=\"/wiki/Carpenter_Center_for_the_Visual_Arts\" title=\"Carpenter Center for the Visual Arts\">Carpenter Center for the Visual Arts</a>, designed by <a href=\"/wiki/Le_Corbusier\" title=\"Le Corbusier\">Le Corbusier</a> and housing the film archive, the <a href=\"/wiki/Peabody_Museum_of_Archaeology_and_Ethnology\" title=\"Peabody Museum of Archaeology and Ethnology\">Peabody Museum of Archaeology and Ethnology</a>, specializing in the cultural history and civilizations of the Western Hemisphere, and the <a href=\"/wiki/Museum_of_the_Ancient_Near_East\" title=\"Museum of the Ancient Near East\">Museum of the Ancient Near East</a> featuring artifacts from excavations in the <a href=\"/wiki/Middle_East\" title=\"Middle East\">Middle East</a>.\n",
       " </p>,\n",
       " <p>Among overall rankings, the <i><a href=\"/wiki/Academic_Ranking_of_World_Universities\" title=\"Academic Ranking of World Universities\">Academic Ranking of World Universities</a></i> (<i>ARWU</i>) has ranked Harvard as the world's top university every year since it was released.<sup class=\"reference\" id=\"cite_ref-ARWU_151-0\"><a href=\"#cite_note-ARWU-151\">[151]</a></sup> When <i>QS</i> and <i><a href=\"/wiki/Times_Higher_Education\" title=\"Times Higher Education\">Times Higher Education</a></i> collaborated to publish the <i><a href=\"/wiki/Times_Higher_Education%E2%80%93QS_World_University_Rankings\" title=\"Times Higher Education–QS World University Rankings\">Times Higher Education–QS World University Rankings</a></i> from 2004 to 2009, Harvard held the top spot every year and continued to hold first place on <i><a class=\"mw-redirect\" href=\"/wiki/World_Reputation_Rankings\" title=\"World Reputation Rankings\">THE World Reputation Rankings</a></i> ever since it was released in 2011.<sup class=\"reference\" id=\"cite_ref-152\"><a href=\"#cite_note-152\">[152]</a></sup> In 2019, it was ranked first worldwide by <i><a href=\"/wiki/SCImago_Institutions_Rankings\" title=\"SCImago Institutions Rankings\">SCImago Institutions Rankings</a></i>.<sup class=\"reference\" id=\"cite_ref-153\"><a href=\"#cite_note-153\">[153]</a></sup>\n",
       " </p>,\n",
       " <p>Among rankings of specific indicators, Harvard topped both the <a href=\"/wiki/University_Ranking_by_Academic_Performance\" title=\"University Ranking by Academic Performance\">University Ranking by Academic Performance</a> (2019–2020) and <i><a href=\"/wiki/Mines_ParisTech:_Professional_Ranking_of_World_Universities\" title=\"Mines ParisTech: Professional Ranking of World Universities\">Mines ParisTech: Professional Ranking of World Universities</a></i> (2011), which measured universities' numbers of alumni holding CEO positions in <a href=\"/wiki/Fortune_Global_500\" title=\"Fortune Global 500\"><i>Fortune</i> Global 500</a> companies.<sup class=\"reference\" id=\"cite_ref-154\"><a href=\"#cite_note-154\">[154]</a></sup> According to annual polls done by <i><a href=\"/wiki/The_Princeton_Review\" title=\"The Princeton Review\">The Princeton Review</a></i>, Harvard is consistently among the top two most commonly named \"dream colleges\" in the United States, both for students and parents.<sup class=\"reference\" id=\"cite_ref-155\"><a href=\"#cite_note-155\">[155]</a></sup><sup class=\"reference\" id=\"cite_ref-156\"><a href=\"#cite_note-156\">[156]</a></sup><sup class=\"reference\" id=\"cite_ref-157\"><a href=\"#cite_note-157\">[157]</a></sup> Additionally, having made significant investments in its <a href=\"/wiki/Harvard_John_A._Paulson_School_of_Engineering_and_Applied_Sciences\" title=\"Harvard John A. Paulson School of Engineering and Applied Sciences\">engineering school</a> in recent years, Harvard was ranked third worldwide for Engineering and Technology in 2019 by <i>Times Higher Education</i>.<sup class=\"reference\" id=\"cite_ref-158\"><a href=\"#cite_note-158\">[158]</a></sup>\n",
       " </p>,\n",
       " <p>The <a href=\"/wiki/Harvard_Undergraduate_Council\" title=\"Harvard Undergraduate Council\">Harvard Undergraduate Council</a> and the <a href=\"/wiki/Harvard_Graduate_Council\" title=\"Harvard Graduate Council\">Harvard Graduate Council</a> are the chief organs of student government.\n",
       " </p>,\n",
       " <p>The <a href=\"/wiki/Harvard_Crimson\" title=\"Harvard Crimson\">Harvard Crimson</a> fields 42 intercollegiate sports teams in the <a href=\"/wiki/National_Collegiate_Athletic_Association\" title=\"National Collegiate Athletic Association\">NCAA</a> <a class=\"mw-redirect\" href=\"/wiki/Division_I_(NCAA)\" title=\"Division I (NCAA)\">Division I</a> <a href=\"/wiki/Ivy_League\" title=\"Ivy League\">Ivy League</a>, more than any other <a class=\"mw-redirect\" href=\"/wiki/Division_I_(NCAA)\" title=\"Division I (NCAA)\">NCAA Division I</a> college in the country.<sup class=\"reference\" id=\"cite_ref-163\"><a href=\"#cite_note-163\">[163]</a></sup> Every two years, the Harvard and Yale <a href=\"/wiki/Track_and_field\" title=\"Track and field\">track and field</a> teams come together to compete against a combined <a class=\"mw-redirect\" href=\"/wiki/Oxford_University\" title=\"Oxford University\">Oxford University</a> and <a class=\"mw-redirect\" href=\"/wiki/Cambridge_University\" title=\"Cambridge University\">Cambridge University</a> team, a competition that is the oldest continuous international amateur competition in the world.<sup class=\"reference\" id=\"cite_ref-164\"><a href=\"#cite_note-164\">[164]</a></sup> As with other Ivy League universities, Harvard does not offer <a href=\"/wiki/Athletic_scholarship\" title=\"Athletic scholarship\">athletic scholarships</a>.<sup class=\"reference\" id=\"cite_ref-165\"><a href=\"#cite_note-165\">[165]</a></sup>\n",
       " </p>,\n",
       " <p>Harvard's athletic rivalry with <a href=\"/wiki/Yale_Bulldogs\" title=\"Yale Bulldogs\">Yale</a> is intense in every sport in which they meet, coming to a climax each fall in the annual <a href=\"/wiki/American_football\" title=\"American football\">football</a> meeting, which dates back to 1875 and is usually called simply \"<a href=\"/wiki/Harvard%E2%80%93Yale_football_rivalry\" title=\"Harvard–Yale football rivalry\">The Game</a>.\" While Harvard's football team is no longer one of the country's best as it often was a century ago during football's early days (it won the <a href=\"/wiki/Rose_Bowl_Game\" title=\"Rose Bowl Game\">Rose Bowl</a> in 1920), both Harvard and Yale have influenced the way the game is played. In 1903, <a href=\"/wiki/Harvard_Stadium\" title=\"Harvard Stadium\">Harvard Stadium</a> introduced a new era into football with the first-ever permanent reinforced concrete stadium of its kind in the country. The stadium's structure actually played a role in the evolution of the college game. Seeking to reduce the alarming number of deaths and serious injuries in the sport, <a href=\"/wiki/Walter_Camp\" title=\"Walter Camp\">Walter Camp</a>, former captain of the Yale football team, suggested widening the field to open up the game. But the stadium was too narrow to accommodate a wider playing surface, so other steps had to be taken. Camp would instead support revolutionary new rules for the 1906 season. These included legalizing the <a href=\"/wiki/Forward_pass\" title=\"Forward pass\">forward pass</a>, perhaps the most significant rule change in the sport's history.<sup class=\"reference\" id=\"cite_ref-166\"><a href=\"#cite_note-166\">[166]</a></sup><sup class=\"reference\" id=\"cite_ref-167\"><a href=\"#cite_note-167\">[167]</a></sup>\n",
       " </p>,\n",
       " <p>Even older than Harvard–Yale football rivalry, the Harvard–Yale Regatta is held each June on the <a href=\"/wiki/Thames_River_(Connecticut)\" title=\"Thames River (Connecticut)\">Thames River</a> in eastern Connecticut. The Harvard crew is typically considered to be one of the top teams in the country in <a href=\"/wiki/Rowing_(sport)\" title=\"Rowing (sport)\">rowing</a>. Other sports in which Harvard teams are particularly strong are <a href=\"/wiki/Harvard_Crimson_men%27s_ice_hockey\" title=\"Harvard Crimson men's ice hockey\">men's ice hockey</a>, <a href=\"/wiki/Squash_(sport)\" title=\"Squash (sport)\">squash</a>, and men's and women's <a href=\"/wiki/Fencing\" title=\"Fencing\">fencing</a>. Harvard's men's ice hockey team won the school's first NCAA Championship in any team sport in 1989, and Harvard also won the <a class=\"mw-redirect\" href=\"/wiki/Intercollegiate_Sailing_Association_National_Championships\" title=\"Intercollegiate Sailing Association National Championships\">Intercollegiate Sailing Association National Championships</a> in 2003. Harvard was the first Ivy League school to win an NCAA Championship in a women's sport when its women's lacrosse team won in 1990.<sup class=\"reference\" id=\"cite_ref-168\"><a href=\"#cite_note-168\">[168]</a></sup>\n",
       " </p>,\n",
       " <p><i><a href=\"/wiki/Harvard_Undergraduate_Television\" title=\"Harvard Undergraduate Television\">Harvard Undergraduate Television</a></i> has footage from historical games and athletic events including the 2005 pep rally before <a class=\"mw-redirect\" href=\"/wiki/Harvard-Yale_football_rivalry\" title=\"Harvard-Yale football rivalry\">The Game</a>.\n",
       " </p>,\n",
       " <p>The school color is <a href=\"/wiki/Crimson\" title=\"Crimson\">crimson</a>, which is also the name of Harvard's sports teams and the student newspaper, <i><a href=\"/wiki/The_Harvard_Crimson\" title=\"The Harvard Crimson\">The Harvard Crimson</a></i>. The color was unofficially adopted (in preference to <a href=\"/wiki/Magenta\" title=\"Magenta\">magenta</a>) by an 1875 vote of the student body, although the association with some form of red can be traced back to 1858, when <a href=\"/wiki/Charles_William_Eliot\" title=\"Charles William Eliot\">Charles William Eliot</a>, a young graduate student who would later become Harvard's 21st and longest-serving president (1869–1909), bought red bandanas for his crew so they could more easily be distinguished by spectators at a regatta.\n",
       " </p>,\n",
       " <p>Harvard has several fight songs, the most played of which, especially at football, are \"<a href=\"/wiki/Ten_Thousand_Men_of_Harvard\" title=\"Ten Thousand Men of Harvard\">Ten Thousand Men of Harvard</a>\" and \"<a href=\"/wiki/Harvardiana\" title=\"Harvardiana\">Harvardiana</a>.\" While \"<a href=\"/wiki/Fair_Harvard\" title=\"Fair Harvard\">Fair Harvard</a>\" is actually the <a class=\"mw-redirect\" href=\"/wiki/Alma_mater_(song)\" title=\"Alma mater (song)\">alma mater</a>, \"Ten Thousand Men\" is better known outside the university. The <a href=\"/wiki/Harvard_University_Band\" title=\"Harvard University Band\">Harvard University Band</a> performs these fight songs and other cheers at football and hockey games. These were parodied by Harvard alumnus <a href=\"/wiki/Tom_Lehrer\" title=\"Tom Lehrer\">Tom Lehrer</a> in his song \"<a href=\"/wiki/Fight_Fiercely,_Harvard\" title=\"Fight Fiercely, Harvard\">Fight Fiercely, Harvard</a>,\" which he composed while an undergraduate.\n",
       " </p>,\n",
       " <p>2nd President of the United States <a href=\"/wiki/John_Adams\" title=\"John Adams\">John Adams</a> (AB, 1755; AM, 1758)\n",
       " </p>,\n",
       " <p>6th President of the United States <a href=\"/wiki/John_Quincy_Adams\" title=\"John Quincy Adams\">John Quincy Adams</a> (AB, 1787; AM, 1798)\n",
       " </p>,\n",
       " <p>19th President of the United States <a href=\"/wiki/Rutherford_B._Hayes\" title=\"Rutherford B. Hayes\">Rutherford B. Hayes</a> (LLB, 1845)\n",
       " </p>,\n",
       " <p>26th President of the United States and Nobel Peace Prize laureate <a href=\"/wiki/Theodore_Roosevelt\" title=\"Theodore Roosevelt\">Theodore Roosevelt</a> (AB, 1880)\n",
       " </p>,\n",
       " <p>32nd President of the United States <a href=\"/wiki/Franklin_D._Roosevelt\" title=\"Franklin D. Roosevelt\">Franklin D. Roosevelt</a> (AB, 1903)\n",
       " </p>,\n",
       " <p>American author, political activist, and lecturer <a href=\"/wiki/Helen_Keller\" title=\"Helen Keller\">Helen Keller</a> (AB, Radcliffe College, 1904)\n",
       " </p>,\n",
       " <p>35th President of the United States <a href=\"/wiki/John_F._Kennedy\" title=\"John F. Kennedy\">John F. Kennedy</a> (AB, 1940)\n",
       " </p>,\n",
       " <p>45th Vice President of the United States and Nobel Peace Prize laureate <a href=\"/wiki/Al_Gore\" title=\"Al Gore\">Al Gore</a> (AB, 1969)\n",
       " </p>,\n",
       " <p>24th President of Liberia and Nobel Peace Prize laureate <a href=\"/wiki/Ellen_Johnson_Sirleaf\" title=\"Ellen Johnson Sirleaf\">Ellen Johnson Sirleaf</a> (MPA, 1971)\n",
       " </p>,\n",
       " <p>Minority Leader of the United States Senate <a href=\"/wiki/Chuck_Schumer\" title=\"Chuck Schumer\">Chuck Schumer</a> (AB, 1971; JD, 1974)\n",
       " </p>,\n",
       " <p>11th Prime Minister of Pakistan <a href=\"/wiki/Benazir_Bhutto\" title=\"Benazir Bhutto\">Benazir Bhutto</a> (AB, Radcliffe College, 1973)\n",
       " </p>,\n",
       " <p>43rd President of the United States <a href=\"/wiki/George_W._Bush\" title=\"George W. Bush\">George W. Bush</a> (MBA, 1975)\n",
       " </p>,\n",
       " <p>Chief Justice of the Supreme Court of the United States <a href=\"/wiki/John_Roberts\" title=\"John Roberts\">John Roberts</a> (AB, 1976; JD 1979)\n",
       " </p>,\n",
       " <p>Founder of Microsoft <a href=\"/wiki/Bill_Gates\" title=\"Bill Gates\">Bill Gates</a> (COL, 1977; LLD, 2007)\n",
       " </p>,\n",
       " <p>Former Secretary-General of the United Nations <a href=\"/wiki/Ban_Ki-moon\" title=\"Ban Ki-moon\">Ban Ki-moon</a> (MPA, 1984)\n",
       " </p>,\n",
       " <p>Associate Justice of the Supreme Court of the United States <a href=\"/wiki/Elena_Kagan\" title=\"Elena Kagan\">Elena Kagan</a> (JD, 1986)\n",
       " </p>,\n",
       " <p>Former First Lady of the United States <a href=\"/wiki/Michelle_Obama\" title=\"Michelle Obama\">Michelle Obama</a> (JD, 1988)\n",
       " </p>,\n",
       " <p>Associate Justice of the Supreme Court of the United States <a href=\"/wiki/Neil_Gorsuch\" title=\"Neil Gorsuch\">Neil Gorsuch</a> (JD, 1991)\n",
       " </p>,\n",
       " <p>44th President of the United States and Nobel Peace Prize laureate <a href=\"/wiki/Barack_Obama\" title=\"Barack Obama\">Barack Obama</a> (JD, 1991)\n",
       " </p>,\n",
       " <p>Founder of Facebook <a href=\"/wiki/Mark_Zuckerberg\" title=\"Mark Zuckerberg\">Mark Zuckerberg</a> (COL, 2006; LLD, 2017)\n",
       " </p>,\n",
       " <p>Harvard's faculty includes numerous renowned scholars such as biologists <a href=\"/wiki/E._O._Wilson\" title=\"E. O. Wilson\">E. O. Wilson</a> and <a href=\"/wiki/William_Kaelin_Jr.\" title=\"William Kaelin Jr.\">William Kaelin Jr.</a>; biophysicists <a href=\"/wiki/Adam_Cohen_(scientist)\" title=\"Adam Cohen (scientist)\">Adam Cohen</a> and <a href=\"/wiki/Xiaowei_Zhuang\" title=\"Xiaowei Zhuang\">Xiaowei Zhuang</a>; physicists <a href=\"/wiki/Lisa_Randall\" title=\"Lisa Randall\">Lisa Randall</a>, <a href=\"/wiki/Subir_Sachdev\" title=\"Subir Sachdev\">Subir Sachdev</a>, and <a href=\"/wiki/Howard_Georgi\" title=\"Howard Georgi\">Howard Georgi</a>; astrophysicists <a href=\"/wiki/Alyssa_A._Goodman\" title=\"Alyssa A. Goodman\">Alyssa A. Goodman</a> and <a href=\"/wiki/John_M._Kovac\" title=\"John M. Kovac\">John M. Kovac</a>;  mathematicians <a href=\"/wiki/Shing-Tung_Yau\" title=\"Shing-Tung Yau\">Shing-Tung Yau</a> and <a href=\"/wiki/Joe_Harris_(mathematician)\" title=\"Joe Harris (mathematician)\">Joe Harris</a>; computer scientists <a href=\"/wiki/Michael_O._Rabin\" title=\"Michael O. Rabin\">Michael O. Rabin</a> and <a href=\"/wiki/Leslie_Valiant\" title=\"Leslie Valiant\">Leslie Valiant</a>; chemists <a href=\"/wiki/Elias_James_Corey\" title=\"Elias James Corey\">Elias James Corey</a>, <a href=\"/wiki/Dudley_R._Herschbach\" title=\"Dudley R. Herschbach\">Dudley R. Herschbach</a>, and <a href=\"/wiki/George_M._Whitesides\" title=\"George M. Whitesides\">George M. Whitesides</a>; literary critics <a href=\"/wiki/Helen_Vendler\" title=\"Helen Vendler\">Helen Vendler</a>, <a href=\"/wiki/Stephen_Greenblatt\" title=\"Stephen Greenblatt\">Stephen Greenblatt</a>, <a href=\"/wiki/Louis_Menand\" title=\"Louis Menand\">Louis Menand</a>, and <a href=\"/wiki/Stephanie_Burt\" title=\"Stephanie Burt\">Stephanie Burt</a>; composers <a href=\"/wiki/Robert_Levin_(musicologist)\" title=\"Robert Levin (musicologist)\">Robert Levin</a> and <a href=\"/wiki/Bernard_Rands\" title=\"Bernard Rands\">Bernard Rands</a>; lawyers <a href=\"/wiki/Alan_Dershowitz\" title=\"Alan Dershowitz\">Alan Dershowitz</a> and <a href=\"/wiki/Lawrence_Lessig\" title=\"Lawrence Lessig\">Lawrence Lessig</a>; historian <a href=\"/wiki/Henry_Louis_Gates_Jr.\" title=\"Henry Louis Gates Jr.\">Henry Louis Gates Jr.</a>; psychologists <a href=\"/wiki/Steven_Pinker\" title=\"Steven Pinker\">Steven Pinker</a> and <a href=\"/wiki/Daniel_Gilbert_(psychologist)\" title=\"Daniel Gilbert (psychologist)\">Daniel Gilbert</a>; economists <a href=\"/wiki/Amartya_Sen\" title=\"Amartya Sen\">Amartya Sen</a>, <a href=\"/wiki/Greg_Mankiw\" title=\"Greg Mankiw\">Greg Mankiw</a>, <a href=\"/wiki/Robert_Barro\" title=\"Robert Barro\">Robert Barro</a>, <a href=\"/wiki/Stephen_Marglin\" title=\"Stephen Marglin\">Stephen Marglin</a>, <a href=\"/wiki/Jason_Furman\" title=\"Jason Furman\">Jason Furman</a>, <a href=\"/wiki/Michael_Kremer\" title=\"Michael Kremer\">Michael Kremer</a>, <a href=\"/wiki/Oliver_Hart_(economist)\" title=\"Oliver Hart (economist)\">Oliver Hart</a>, <a href=\"/wiki/Raj_Chetty\" title=\"Raj Chetty\">Raj Chetty</a>, <a href=\"/wiki/Lawrence_Summers\" title=\"Lawrence Summers\">Lawrence Summers</a>, <a href=\"/wiki/Eric_Maskin\" title=\"Eric Maskin\">Eric Maskin</a>, <a href=\"/wiki/David_Laibson\" title=\"David Laibson\">David Laibson</a>, <a href=\"/wiki/Andrei_Shleifer\" title=\"Andrei Shleifer\">Andrei Shleifer</a>, and <a href=\"/wiki/Matthew_Rabin\" title=\"Matthew Rabin\">Matthew Rabin</a>; philosophers <a href=\"/wiki/Harvey_Mansfield\" title=\"Harvey Mansfield\">Harvey Mansfield</a>, <a href=\"/wiki/Shirley_Williams\" title=\"Shirley Williams\">Shirley Williams</a>, <a href=\"/wiki/Cornel_West\" title=\"Cornel West\">Cornel West</a>, and <a href=\"/wiki/Michael_J._Sandel\" title=\"Michael J. Sandel\">Michael J. Sandel</a>; and political scientists <a class=\"mw-redirect\" href=\"/wiki/Robert_Putnam\" title=\"Robert Putnam\">Robert Putnam</a>, <a href=\"/wiki/Steven_Levitsky\" title=\"Steven Levitsky\">Steven Levitsky</a>, <a href=\"/wiki/Danielle_Allen\" title=\"Danielle Allen\">Danielle Allen</a>, and <a href=\"/wiki/Joseph_Nye\" title=\"Joseph Nye\">Joseph Nye</a>.\n",
       " </p>,\n",
       " <p>Past faculty members include <a href=\"/wiki/Stephen_Jay_Gould\" title=\"Stephen Jay Gould\">Stephen Jay Gould</a>, <a href=\"/wiki/Robert_Nozick\" title=\"Robert Nozick\">Robert Nozick</a>, <a href=\"/wiki/Stephan_Thernstrom\" title=\"Stephan Thernstrom\">Stephan Thernstrom</a>, <a href=\"/wiki/Sanford_J._Ungar\" title=\"Sanford J. Ungar\">Sanford J. Ungar</a>, <a href=\"/wiki/Michael_Walzer\" title=\"Michael Walzer\">Michael Walzer</a>, <a href=\"/wiki/Martin_Feldstein\" title=\"Martin Feldstein\">Martin Feldstein</a>, <a class=\"mw-redirect\" href=\"/wiki/Roy_Glauber\" title=\"Roy Glauber\">Roy Glauber</a>, and <a href=\"/wiki/Stanley_Hoffmann\" title=\"Stanley Hoffmann\">Stanley Hoffmann</a>.\n",
       " </p>,\n",
       " <p>The perception of Harvard as a center of either elite achievement, or elitist privilege, has made it a frequent literary and cinematic backdrop. \"In the grammar of film, Harvard has come to mean both tradition, and a certain amount of stuffiness,\" film critic Paul Sherman has said.<sup class=\"reference\" id=\"cite_ref-thomas_169-0\"><a href=\"#cite_note-thomas-169\">[169]</a></sup>\n",
       " </p>,\n",
       " <p>Harvard's policy since 1970 has been to permit filming on its property only rarely, so most scenes set at Harvard (especially indoor shots, but excepting aerial footage and shots of public areas such as Harvard Square) are in fact shot elsewhere.<sup class=\"reference\" id=\"cite_ref-175\"><a href=\"#cite_note-175\">[175]</a></sup><sup class=\"reference\" id=\"cite_ref-176\"><a href=\"#cite_note-176\">[176]</a></sup>\n",
       " </p>]"
      ]
     },
     "execution_count": 17,
     "metadata": {},
     "output_type": "execute_result"
    }
   ],
   "source": [
    "# Be careful with elements that show up multiple times.\n",
    "# Your Code Here\n",
    "soup.find_all('p')"
   ]
  },
  {
   "cell_type": "markdown",
   "metadata": {
    "colab_type": "text",
    "id": "O527OjrFlV99"
   },
   "source": [
    "# 5) How may p tags are present?"
   ]
  },
  {
   "cell_type": "code",
   "execution_count": 18,
   "metadata": {
    "colab": {},
    "colab_type": "code",
    "id": "VENpIgJylV99"
   },
   "outputs": [
    {
     "data": {
      "text/plain": [
       "85"
      ]
     },
     "execution_count": 18,
     "metadata": {},
     "output_type": "execute_result"
    }
   ],
   "source": [
    "# Your Code Here\n",
    "len(soup.find_all('p'))"
   ]
  },
  {
   "cell_type": "markdown",
   "metadata": {
    "colab_type": "text",
    "id": "0e3gFB18lV9_"
   },
   "source": [
    "---"
   ]
  },
  {
   "cell_type": "markdown",
   "metadata": {
    "colab_type": "text",
    "id": "aTiPovJXlV9_"
   },
   "source": [
    "If you look at the Wikipedia page on your browser, you'll notice that it has a couple of tables in it. We will be working with the \"Demographics\" table, but first we need to find it.\n",
    "\n",
    "One of the HTML attributes that will be very useful to us is the \"class\" attribute.\n",
    "\n",
    "Getting the class of a single element is easy..."
   ]
  },
  {
   "cell_type": "code",
   "execution_count": 19,
   "metadata": {
    "colab": {},
    "colab_type": "code",
    "id": "YUbXHoK6lV-A"
   },
   "outputs": [
    {
     "data": {
      "text/plain": [
       "['infobox', 'vcard']"
      ]
     },
     "execution_count": 19,
     "metadata": {},
     "output_type": "execute_result"
    }
   ],
   "source": [
    "soup.table[\"class\"]\n"
   ]
  },
  {
   "cell_type": "markdown",
   "metadata": {
    "colab_type": "text",
    "id": "KzoUTUo6lV-C"
   },
   "source": [
    "---\n",
    "\n",
    "### List Comprehensions\n",
    "\n",
    "Next we will use a list comprehension to see all the tables that have a \"class\" attributes. List comprehensions are a very cool Python feature that allows for a loop iteration and a list creation in a single line.\n",
    "\n",
    "As a quick guide you may refer to https://www.youtube.com/watch?v=AhSvKGTh28Q. "
   ]
  },
  {
   "cell_type": "markdown",
   "metadata": {
    "colab_type": "text",
    "id": "acLP3SvSlV-D"
   },
   "source": [
    "# 6) Create a nested list containing classes of all the table tags"
   ]
  },
  {
   "cell_type": "markdown",
   "metadata": {
    "colab_type": "text",
    "id": "ruacfB_glV-D"
   },
   "source": [
    "### Expected Output"
   ]
  },
  {
   "cell_type": "markdown",
   "metadata": {
    "colab_type": "text",
    "id": "vbbfOQlSlV-E"
   },
   "source": [
    "```\n",
    "[['infobox', 'vcard'],\n",
    " ['toccolours'],\n",
    " ['infobox'],\n",
    " ['wikitable', 'sortable', 'collapsible', 'collapsed', 'floatright'],\n",
    " ['wikitable', 'sortable', 'collapsible', 'collapsed', 'floatright'],\n",
    " ['wikitable'],\n",
    " ['box-Cleanup_gallery', 'plainlinks', 'metadata', 'ambox', 'ambox-style'],\n",
    " ['metadata', 'mbox-small'],\n",
    " ['nowraplinks', 'mw-collapsible', 'mw-collapsed', 'navbox-inner'],\n",
    " ['nowraplinks', 'navbox-subgroup'],\n",
    " ['nowraplinks', 'navbox-subgroup'],\n",
    " ['nowraplinks', 'mw-collapsible', 'mw-collapsed', 'navbox-inner'],\n",
    " ['nowraplinks', 'mw-collapsible', 'autocollapse', 'navbox-inner'],\n",
    " ['nowraplinks', 'mw-collapsible', 'mw-collapsed', 'navbox-inner'],\n",
    " ['nowraplinks', 'mw-collapsible', 'autocollapse', 'navbox-inner'],\n",
    " ['nowraplinks', 'mw-collapsible', 'autocollapse', 'navbox-inner'],\n",
    " ['nowraplinks', 'mw-collapsible', 'autocollapse', 'navbox-inner'],\n",
    " ['nowraplinks', 'mw-collapsible', 'autocollapse', 'navbox-inner'],\n",
    " ['nowraplinks', 'mw-collapsible', 'autocollapse', 'navbox-inner'],\n",
    " ['nowraplinks', 'mw-collapsible', 'autocollapse', 'navbox-inner'],\n",
    " ['nowraplinks', 'hlist', 'mw-collapsible', 'autocollapse', 'navbox-inner'],\n",
    " ['nowraplinks', 'mw-collapsible', 'autocollapse', 'navbox-inner'],\n",
    " ['nowraplinks', 'mw-collapsible', 'autocollapse', 'navbox-inner'],\n",
    " ['nowraplinks', 'mw-collapsible', 'mw-collapsed', 'navbox-inner'],\n",
    " ['nowraplinks', 'hlist', 'mw-collapsible', 'autocollapse', 'navbox-inner'],\n",
    " ['nowraplinks', 'navbox-subgroup'],\n",
    " ['nowraplinks', 'hlist', 'navbox-inner']]\n",
    "```"
   ]
  },
  {
   "cell_type": "code",
   "execution_count": 21,
   "metadata": {
    "colab": {},
    "colab_type": "code",
    "id": "RcdwNrL7lV-F",
    "scrolled": true
   },
   "outputs": [
    {
     "data": {
      "text/plain": [
       "[['infobox', 'vcard'],\n",
       " ['toccolours'],\n",
       " ['infobox'],\n",
       " ['wikitable', 'sortable', 'collapsible', 'collapsed', 'floatright'],\n",
       " ['wikitable', 'sortable', 'collapsible', 'collapsed', 'floatright'],\n",
       " ['wikitable'],\n",
       " ['box-Cleanup_gallery', 'plainlinks', 'metadata', 'ambox', 'ambox-style'],\n",
       " ['metadata', 'mbox-small'],\n",
       " ['nowraplinks', 'mw-collapsible', 'mw-collapsed', 'navbox-inner'],\n",
       " ['nowraplinks', 'navbox-subgroup'],\n",
       " ['nowraplinks', 'navbox-subgroup'],\n",
       " ['nowraplinks', 'mw-collapsible', 'mw-collapsed', 'navbox-inner'],\n",
       " ['nowraplinks', 'mw-collapsible', 'autocollapse', 'navbox-inner'],\n",
       " ['nowraplinks', 'mw-collapsible', 'mw-collapsed', 'navbox-inner'],\n",
       " ['nowraplinks', 'mw-collapsible', 'autocollapse', 'navbox-inner'],\n",
       " ['nowraplinks', 'mw-collapsible', 'autocollapse', 'navbox-inner'],\n",
       " ['nowraplinks', 'mw-collapsible', 'autocollapse', 'navbox-inner'],\n",
       " ['nowraplinks', 'mw-collapsible', 'autocollapse', 'navbox-inner'],\n",
       " ['nowraplinks', 'mw-collapsible', 'autocollapse', 'navbox-inner'],\n",
       " ['nowraplinks', 'mw-collapsible', 'autocollapse', 'navbox-inner'],\n",
       " ['nowraplinks', 'hlist', 'mw-collapsible', 'autocollapse', 'navbox-inner'],\n",
       " ['nowraplinks', 'mw-collapsible', 'autocollapse', 'navbox-inner'],\n",
       " ['nowraplinks', 'mw-collapsible', 'autocollapse', 'navbox-inner'],\n",
       " ['nowraplinks', 'mw-collapsible', 'mw-collapsed', 'navbox-inner'],\n",
       " ['nowraplinks', 'hlist', 'mw-collapsible', 'autocollapse', 'navbox-inner'],\n",
       " ['nowraplinks', 'navbox-subgroup'],\n",
       " ['nowraplinks', 'hlist', 'navbox-inner']]"
      ]
     },
     "execution_count": 21,
     "metadata": {},
     "output_type": "execute_result"
    }
   ],
   "source": [
    "# Your Code Here\n",
    "#method1: without list comprehension\n",
    "mylist = [] \n",
    "for tb in soup.find_all('table'):\n",
    "    mylist.append(tb['class'])\n",
    "#print(mylist)\n",
    "#method2: using list comprehension\n",
    "mylis = [tb['class'] for tb in soup.find_all('table')]\n",
    "mylis"
   ]
  },
  {
   "cell_type": "markdown",
   "metadata": {
    "colab_type": "text",
    "id": "fOLdxC_FlV-J"
   },
   "source": [
    "As I mentioned, we will be using the Demographics table for this lab. The next cell contains the HTML elements of said table. We will render it in different parts of the notebook to make it easier to follow along the parsing steps."
   ]
  },
  {
   "cell_type": "markdown",
   "metadata": {
    "colab_type": "text",
    "id": "oHZQxxdqlV-K"
   },
   "source": [
    "# 7) Check the classes and find the Demographics Table\n",
    "#### Use find method to find the table using the correct class , convert it into string format and store it in table_html also stored the original form in html_soup"
   ]
  },
  {
   "cell_type": "code",
   "execution_count": 28,
   "metadata": {
    "colab": {},
    "colab_type": "code",
    "id": "xAFCqdBdlV-K"
   },
   "outputs": [],
   "source": [
    "# Your Code Here\n",
    "html_soup = soup.find(\"table\", attrs={\"class\": 'wikitable','style':'text-align:center; float:right; font-size:85%; margin-right:2em;'})"
   ]
  },
  {
   "cell_type": "code",
   "execution_count": 29,
   "metadata": {
    "colab": {},
    "colab_type": "code",
    "id": "C4DDJmZblV-O"
   },
   "outputs": [],
   "source": [
    "html_soup\n",
    "table_html = str(html_soup)"
   ]
  },
  {
   "cell_type": "code",
   "execution_count": 30,
   "metadata": {
    "colab": {},
    "colab_type": "code",
    "id": "1DzOJCEllV-Q"
   },
   "outputs": [
    {
     "data": {
      "text/html": [
       "<table class=\"wikitable\" style=\"text-align:center; float:right; font-size:85%; margin-right:2em;\">\n",
       "<caption><i>Demographics of student body (Fall 2019)</i><sup class=\"reference\" id=\"cite_ref-Head_count_159-0\"><a href=\"#cite_note-Head_count-159\">[159]</a></sup><sup class=\"reference\" id=\"cite_ref-160\"><a href=\"#cite_note-160\">[160]</a></sup><sup class=\"reference\" id=\"cite_ref-161\"><a href=\"#cite_note-161\">[161]</a></sup><sup class=\"reference\" id=\"cite_ref-162\"><a href=\"#cite_note-162\">[162]</a></sup>\n",
       "</caption>\n",
       "<tbody><tr>\n",
       "<th></th>\n",
       "<th>Undergrad</th>\n",
       "<th>Grad/prof</th>\n",
       "<th>US census\n",
       "</th></tr>\n",
       "<tr>\n",
       "<th>Asian\n",
       "</th>\n",
       "<td>21%</td>\n",
       "<td>13%</td>\n",
       "<td>5%\n",
       "</td></tr>\n",
       "<tr>\n",
       "<th>Black\n",
       "</th>\n",
       "<td>9%</td>\n",
       "<td>5%</td>\n",
       "<td>12%\n",
       "</td></tr>\n",
       "<tr>\n",
       "<th>Hispanic or Latino\n",
       "</th>\n",
       "<td>11%</td>\n",
       "<td>7%</td>\n",
       "<td>16%\n",
       "</td></tr>\n",
       "<tr>\n",
       "<th>White\n",
       "</th>\n",
       "<td>37%</td>\n",
       "<td>38%</td>\n",
       "<td>64%\n",
       "</td></tr>\n",
       "<tr>\n",
       "<th>Two or more races\n",
       "</th>\n",
       "<td>8%</td>\n",
       "<td>3%</td>\n",
       "<td>9%\n",
       "</td></tr>\n",
       "<tr>\n",
       "<th>International\n",
       "</th>\n",
       "<td>12%</td>\n",
       "<td>32%</td>\n",
       "<td>N/A\n",
       "</td></tr></tbody></table>"
      ],
      "text/plain": [
       "<IPython.core.display.HTML object>"
      ]
     },
     "execution_count": 30,
     "metadata": {},
     "output_type": "execute_result"
    }
   ],
   "source": [
    "from IPython.core.display import HTML\n",
    "\n",
    "HTML(table_html)"
   ]
  },
  {
   "cell_type": "markdown",
   "metadata": {
    "colab_type": "text",
    "id": "1e3ACBh9lV-T"
   },
   "source": [
    "# 8) Extract the rows from the Demographics table and store it in rows variable"
   ]
  },
  {
   "cell_type": "markdown",
   "metadata": {
    "colab_type": "text",
    "id": "gGSUm3lqlV-U"
   },
   "source": [
    "### Expected Output\n",
    "```\n",
    "[<tr>\n",
    " <th></th>\n",
    " <th>Undergrad</th>\n",
    " <th>Grad/prof</th>\n",
    " <th>US census\n",
    " </th></tr>, <tr>\n",
    " <th>Asian\n",
    " </th>\n",
    " <td>21%</td>\n",
    " <td>13%</td>\n",
    " <td>5%\n",
    " </td></tr>, <tr>\n",
    " <th>Black\n",
    " </th>\n",
    " <td>9%</td>\n",
    " <td>5%</td>\n",
    " <td>12%\n",
    " </td></tr>, <tr>\n",
    " <th>Hispanic or Latino\n",
    " </th>\n",
    " <td>11%</td>\n",
    " <td>7%</td>\n",
    " <td>16%\n",
    " </td></tr>, <tr>\n",
    " <th>White\n",
    " </th>\n",
    " <td>37%</td>\n",
    " <td>38%</td>\n",
    " <td>64%\n",
    " </td></tr>, <tr>\n",
    " <th>Two or more races\n",
    " </th>\n",
    " <td>8%</td>\n",
    " <td>3%</td>\n",
    " <td>9%\n",
    " </td></tr>, <tr>\n",
    " <th>International\n",
    " </th>\n",
    " <td>12%</td>\n",
    " <td>32%</td>\n",
    " <td>N/A\n",
    " </td></tr>]\n",
    "```"
   ]
  },
  {
   "cell_type": "code",
   "execution_count": 32,
   "metadata": {
    "colab": {},
    "colab_type": "code",
    "id": "e1W00hrLlV-U",
    "scrolled": true
   },
   "outputs": [
    {
     "data": {
      "text/plain": [
       "[<tr>\n",
       " <th></th>\n",
       " <th>Undergrad</th>\n",
       " <th>Grad/prof</th>\n",
       " <th>US census\n",
       " </th></tr>, <tr>\n",
       " <th>Asian\n",
       " </th>\n",
       " <td>21%</td>\n",
       " <td>13%</td>\n",
       " <td>5%\n",
       " </td></tr>, <tr>\n",
       " <th>Black\n",
       " </th>\n",
       " <td>9%</td>\n",
       " <td>5%</td>\n",
       " <td>12%\n",
       " </td></tr>, <tr>\n",
       " <th>Hispanic or Latino\n",
       " </th>\n",
       " <td>11%</td>\n",
       " <td>7%</td>\n",
       " <td>16%\n",
       " </td></tr>, <tr>\n",
       " <th>White\n",
       " </th>\n",
       " <td>37%</td>\n",
       " <td>38%</td>\n",
       " <td>64%\n",
       " </td></tr>, <tr>\n",
       " <th>Two or more races\n",
       " </th>\n",
       " <td>8%</td>\n",
       " <td>3%</td>\n",
       " <td>9%\n",
       " </td></tr>, <tr>\n",
       " <th>International\n",
       " </th>\n",
       " <td>12%</td>\n",
       " <td>32%</td>\n",
       " <td>N/A\n",
       " </td></tr>]"
      ]
     },
     "execution_count": 32,
     "metadata": {},
     "output_type": "execute_result"
    }
   ],
   "source": [
    "# Your Code Here\n",
    "#print(html_soup.find_all('tr'))\n",
    "rows = [] \n",
    "for row in html_soup.find_all('tr'):\n",
    "    rows.append(row)    \n",
    "rows"
   ]
  },
  {
   "cell_type": "code",
   "execution_count": 33,
   "metadata": {},
   "outputs": [
    {
     "data": {
      "text/plain": [
       "[<h3><span class=\"mw-headline\" id=\"Colonial\">Colonial</span></h3>,\n",
       " <h3><span class=\"mw-headline\" id=\"19th_century\">19th century</span></h3>,\n",
       " <h3><span class=\"mw-headline\" id=\"20th_century\">20th century</span></h3>,\n",
       " <h3><span class=\"mw-headline\" id=\"21st_century\">21st century</span></h3>,\n",
       " <h3><span class=\"mw-headline\" id=\"Cambridge\">Cambridge</span></h3>,\n",
       " <h3><span class=\"mw-headline\" id=\"Allston\">Allston</span></h3>,\n",
       " <h3><span class=\"mw-headline\" id=\"Longwood\">Longwood</span></h3>,\n",
       " <h3><span class=\"mw-headline\" id=\"Other\">Other</span></h3>,\n",
       " <h3><span class=\"mw-headline\" id=\"Governance\">Governance</span></h3>,\n",
       " <h3><span class=\"mw-headline\" id=\"Endowment\">Endowment</span></h3>,\n",
       " <h3><span class=\"mw-headline\" id=\"Admissions\">Admissions</span></h3>,\n",
       " <h3><span class=\"mw-headline\" id=\"Teaching_and_learning\">Teaching and learning</span></h3>,\n",
       " <h3><span class=\"mw-headline\" id=\"Research\">Research</span></h3>,\n",
       " <h3><span class=\"mw-headline\" id=\"Libraries_and_museums\">Libraries and museums</span></h3>,\n",
       " <h3><span class=\"mw-headline\" id=\"Rankings\">Rankings</span></h3>,\n",
       " <h3><span class=\"mw-headline\" id=\"Student_government\">Student government</span></h3>,\n",
       " <h3><span class=\"mw-headline\" id=\"Athletics\">Athletics</span></h3>,\n",
       " <h3><span class=\"mw-headline\" id=\"Fight_songs\">Fight songs</span></h3>,\n",
       " <h3><span class=\"mw-headline\" id=\"Alumni\">Alumni</span></h3>,\n",
       " <h3><span class=\"mw-headline\" id=\"Faculty\">Faculty</span></h3>,\n",
       " <h3><span class=\"mw-headline\" id=\"Literature\">Literature</span></h3>,\n",
       " <h3><span class=\"mw-headline\" id=\"Film\">Film</span></h3>,\n",
       " <h3 id=\"p-personal-label\">Personal tools</h3>,\n",
       " <h3 id=\"p-namespaces-label\">Namespaces</h3>,\n",
       " <h3 id=\"p-variants-label\">\n",
       " <span>Variants</span>\n",
       " </h3>,\n",
       " <h3 id=\"p-views-label\">Views</h3>,\n",
       " <h3 id=\"p-cactions-label\">\n",
       " <span>More</span>\n",
       " </h3>,\n",
       " <h3>\n",
       " <label for=\"searchInput\">Search</label>\n",
       " </h3>,\n",
       " <h3 id=\"p-navigation-label\">\n",
       " \t\tNavigation\n",
       " \t</h3>,\n",
       " <h3 id=\"p-interaction-label\">\n",
       " \t\tInteraction\n",
       " \t</h3>,\n",
       " <h3 id=\"p-tb-label\">\n",
       " \t\tTools\n",
       " \t</h3>,\n",
       " <h3 id=\"p-wikibase-otherprojects-label\">\n",
       " \t\tIn other projects\n",
       " \t</h3>,\n",
       " <h3 id=\"p-coll-print_export-label\">\n",
       " \t\tPrint/export\n",
       " \t</h3>,\n",
       " <h3 id=\"p-lang-label\">\n",
       " \t\tLanguages\n",
       " \t</h3>]"
      ]
     },
     "execution_count": 33,
     "metadata": {},
     "output_type": "execute_result"
    }
   ],
   "source": [
    "rows2 = [] \n",
    "for row in soup.find_all('h3'):\n",
    "    rows2.append(row)    \n",
    "rows2"
   ]
  },
  {
   "cell_type": "markdown",
   "metadata": {
    "colab_type": "text",
    "id": "K4VYK05hlV-X"
   },
   "source": [
    "---\n",
    "\n",
    "### lambda expressions\n",
    "\n",
    "We will then use a lambda expression to replace new line characters with spaces. Lambda expressions are to functions what list comprehensions are to lists: namely a more concise way to achieve the same thing.\n",
    "\n",
    "In reality, both lambda expressions and list comprehensions are a little different from their function and loop counterparts. But for the purposes of this class we can ignore those differences."
   ]
  },
  {
   "cell_type": "code",
   "execution_count": 34,
   "metadata": {
    "colab": {},
    "colab_type": "code",
    "id": "xjBPQa9flV-X"
   },
   "outputs": [],
   "source": [
    "# Lambda expressions return the value of the expression inside it.\n",
    "# In this case, it will return a string with new line characters replaced by spaces.\n",
    "rem_nl = lambda s: s.replace(\"\\n\", \" \")"
   ]
  },
  {
   "cell_type": "markdown",
   "metadata": {
    "colab_type": "text",
    "id": "851BgCf6lV-Z"
   },
   "source": [
    "# 8) Extract the columns from the Demographics table and store it in columns variable"
   ]
  },
  {
   "cell_type": "markdown",
   "metadata": {
    "colab_type": "text",
    "id": "2d2ctECOlV-Z"
   },
   "source": [
    "### Expected Output\n",
    "```\n",
    "['Undergrad', 'Grad/prof', 'US census ']\n",
    "```"
   ]
  },
  {
   "cell_type": "code",
   "execution_count": 35,
   "metadata": {
    "colab": {},
    "colab_type": "code",
    "id": "KWwqgo15lV-a"
   },
   "outputs": [
    {
     "data": {
      "text/plain": [
       "['Undergrad', 'Grad/prof', 'US census']"
      ]
     },
     "execution_count": 35,
     "metadata": {},
     "output_type": "execute_result"
    }
   ],
   "source": [
    "# Your Code Here\n",
    "columns2= []\n",
    "for col in rows[0].find_all('th'):\n",
    "    columns2.append(col.text.replace(\"\\n\",\"\"))\n",
    "columns = columns2[1:]\n",
    "columns\n"
   ]
  },
  {
   "cell_type": "markdown",
   "metadata": {
    "colab_type": "text",
    "id": "RdYgTEiNlV-b"
   },
   "source": [
    "Now let's do the same for the rows. Notice that since we have already parsed the header row, we will continue from the second row. The `[1:]` is a slice notation and in this case it means we want all values starting from the second position."
   ]
  },
  {
   "cell_type": "markdown",
   "metadata": {
    "colab_type": "text",
    "id": "RZ4Skq2QlV-c"
   },
   "source": [
    "# 9) Extract the indexes from the rows variable\n",
    "### Store it in a variable named indexes"
   ]
  },
  {
   "cell_type": "markdown",
   "metadata": {
    "colab_type": "text",
    "id": "TgNwKDIslV-c"
   },
   "source": [
    "### Expected Output\n",
    "```\n",
    "['Asian',\n",
    " 'Black',\n",
    " 'Hispanic or Latino',\n",
    " 'White',\n",
    " 'Two or more races',\n",
    " 'International']\n",
    "\n",
    "```"
   ]
  },
  {
   "cell_type": "code",
   "execution_count": 36,
   "metadata": {
    "colab": {},
    "colab_type": "code",
    "id": "-KH6yroVlV-c"
   },
   "outputs": [],
   "source": [
    "# Your Code Here\n",
    "\n",
    "indexes= []\n",
    "for i in range(1,7):\n",
    "    for row in rows[i].find_all('th'):\n",
    "        indexes.append(row.text.replace(\"\\n\",\"\"))\n",
    "    "
   ]
  },
  {
   "cell_type": "code",
   "execution_count": 37,
   "metadata": {
    "colab": {},
    "colab_type": "code",
    "id": "AcZcaD1PlV-f"
   },
   "outputs": [
    {
     "data": {
      "text/plain": [
       "['Asian',\n",
       " 'Black',\n",
       " 'Hispanic or Latino',\n",
       " 'White',\n",
       " 'Two or more races',\n",
       " 'International']"
      ]
     },
     "execution_count": 37,
     "metadata": {},
     "output_type": "execute_result"
    }
   ],
   "source": [
    "indexes"
   ]
  },
  {
   "cell_type": "code",
   "execution_count": 38,
   "metadata": {
    "colab": {},
    "colab_type": "code",
    "id": "GJxoc0kElV-h"
   },
   "outputs": [
    {
     "data": {
      "text/html": [
       "<table class=\"wikitable\" style=\"text-align:center; float:right; font-size:85%; margin-right:2em;\">\n",
       "<caption><i>Demographics of student body (Fall 2019)</i><sup class=\"reference\" id=\"cite_ref-Head_count_159-0\"><a href=\"#cite_note-Head_count-159\">[159]</a></sup><sup class=\"reference\" id=\"cite_ref-160\"><a href=\"#cite_note-160\">[160]</a></sup><sup class=\"reference\" id=\"cite_ref-161\"><a href=\"#cite_note-161\">[161]</a></sup><sup class=\"reference\" id=\"cite_ref-162\"><a href=\"#cite_note-162\">[162]</a></sup>\n",
       "</caption>\n",
       "<tbody><tr>\n",
       "<th></th>\n",
       "<th>Undergrad</th>\n",
       "<th>Grad/prof</th>\n",
       "<th>US census\n",
       "</th></tr>\n",
       "<tr>\n",
       "<th>Asian\n",
       "</th>\n",
       "<td>21%</td>\n",
       "<td>13%</td>\n",
       "<td>5%\n",
       "</td></tr>\n",
       "<tr>\n",
       "<th>Black\n",
       "</th>\n",
       "<td>9%</td>\n",
       "<td>5%</td>\n",
       "<td>12%\n",
       "</td></tr>\n",
       "<tr>\n",
       "<th>Hispanic or Latino\n",
       "</th>\n",
       "<td>11%</td>\n",
       "<td>7%</td>\n",
       "<td>16%\n",
       "</td></tr>\n",
       "<tr>\n",
       "<th>White\n",
       "</th>\n",
       "<td>37%</td>\n",
       "<td>38%</td>\n",
       "<td>64%\n",
       "</td></tr>\n",
       "<tr>\n",
       "<th>Two or more races\n",
       "</th>\n",
       "<td>8%</td>\n",
       "<td>3%</td>\n",
       "<td>9%\n",
       "</td></tr>\n",
       "<tr>\n",
       "<th>International\n",
       "</th>\n",
       "<td>12%</td>\n",
       "<td>32%</td>\n",
       "<td>N/A\n",
       "</td></tr></tbody></table>"
      ],
      "text/plain": [
       "<IPython.core.display.HTML object>"
      ]
     },
     "execution_count": 38,
     "metadata": {},
     "output_type": "execute_result"
    }
   ],
   "source": [
    "# Here's the original HTML table.\n",
    "HTML(table_html)"
   ]
  },
  {
   "cell_type": "markdown",
   "metadata": {
    "colab_type": "text",
    "id": "B_WOJ94QlV-j"
   },
   "source": [
    "Next we start by checking if the last character of the string (Python allows for negative indexes) is a percent sign. If that is true, then we convert the characters before the sign to integers. Lastly, if one of the prior checks fails, we return a value of None.\n",
    "\n",
    "This is a very common pattern in Python, and it works for two reasons: Python's `and` and `or` are \"short-circuit\" operators. This means that if the first element of an `and` statement evaluates to False, the second one is never computed (which in this case would be a problem since we can't convert a non-digit string to an integer). The `or` statement works the other way: if the first element evaluates to True, the second is never computed.\n",
    "\n",
    "The second reason this works is because these operators will return the value of the last expression that was evaluated, which is this case will be either the integer value or the value `None`.\n",
    "\n",
    "One last thing to notice: Python slices are open on the upper bound. So the `[:-1]` construct will return all elements of the string, except for the last."
   ]
  },
  {
   "cell_type": "markdown",
   "metadata": {
    "colab_type": "text",
    "id": "Ea2avEaklV-k"
   },
   "source": [
    "# 10) Convert the percentages to integers\n",
    "### Store it in a variable named values"
   ]
  },
  {
   "cell_type": "markdown",
   "metadata": {
    "colab_type": "text",
    "id": "EUi7-ikVlV-k"
   },
   "source": [
    "### Expected Output\n",
    "```\n",
    "[21, 13, 5, 9, 5, 12, 11, 7, 16, 37, 38, 64, 8, 3, 9, 12, 32, None]\n",
    "```"
   ]
  },
  {
   "cell_type": "code",
   "execution_count": 40,
   "metadata": {
    "colab": {},
    "colab_type": "code",
    "id": "o4_XUfDIlV-k"
   },
   "outputs": [
    {
     "data": {
      "text/plain": [
       "[21, 13, 5, 9, 5, 12, 11, 7, 16, 37, 38, 64, 8, 3, 9, 12, 32, None]"
      ]
     },
     "execution_count": 40,
     "metadata": {},
     "output_type": "execute_result"
    }
   ],
   "source": [
    "values2= []\n",
    "for i in range(1,7):\n",
    "    for row in rows[i].find_all('td'):\n",
    "        values2.append(row.text.replace(\"\\n\",\"\"))\n",
    "values=[]        \n",
    "for val in values2:\n",
    "    if val[-1] == '%':\n",
    "        values.append(int(val.replace(\"%\",\"\")))\n",
    "    else:\n",
    "        values.append(None)\n",
    "values"
   ]
  },
  {
   "cell_type": "markdown",
   "metadata": {
    "colab_type": "text",
    "id": "0in8D_gdlV-p"
   },
   "source": [
    "The problem with the list above is that the values lost their grouping.\n",
    "\n",
    "The `zip` function is used to combine two sequences element wise. So `zip([1,2,3], [4,5,6])` would return `[(1, 4), (2, 5), (3, 6)]`.\n",
    "\n",
    "This is the first time we see a container bounded by parenthesis. This is a tuple, which you can think of as an immutable list (meaning you can't add, remove, or change elements from it). Otherwise they work just like lists and can be indexed, sliced, etc."
   ]
  },
  {
   "cell_type": "code",
   "execution_count": 41,
   "metadata": {
    "colab": {},
    "colab_type": "code",
    "id": "9U6avqTylV-q"
   },
   "outputs": [
    {
     "name": "stdout",
     "output_type": "stream",
     "text": [
      "[(21, 13, 5), (9, 5, 12), (11, 7, 16), (37, 38, 64), (8, 3, 9), (12, 32, None)]\n"
     ]
    }
   ],
   "source": [
    "stacked_values = zip(*[values[i::3] for i in range(len(columns))])\n",
    "stacked_values\n",
    "print(list(stacked_values))"
   ]
  },
  {
   "cell_type": "code",
   "execution_count": 42,
   "metadata": {
    "colab": {},
    "colab_type": "code",
    "id": "5DkiF6GelV-s"
   },
   "outputs": [
    {
     "data": {
      "text/html": [
       "<table class=\"wikitable\" style=\"text-align:center; float:right; font-size:85%; margin-right:2em;\">\n",
       "<caption><i>Demographics of student body (Fall 2019)</i><sup class=\"reference\" id=\"cite_ref-Head_count_159-0\"><a href=\"#cite_note-Head_count-159\">[159]</a></sup><sup class=\"reference\" id=\"cite_ref-160\"><a href=\"#cite_note-160\">[160]</a></sup><sup class=\"reference\" id=\"cite_ref-161\"><a href=\"#cite_note-161\">[161]</a></sup><sup class=\"reference\" id=\"cite_ref-162\"><a href=\"#cite_note-162\">[162]</a></sup>\n",
       "</caption>\n",
       "<tbody><tr>\n",
       "<th></th>\n",
       "<th>Undergrad</th>\n",
       "<th>Grad/prof</th>\n",
       "<th>US census\n",
       "</th></tr>\n",
       "<tr>\n",
       "<th>Asian\n",
       "</th>\n",
       "<td>21%</td>\n",
       "<td>13%</td>\n",
       "<td>5%\n",
       "</td></tr>\n",
       "<tr>\n",
       "<th>Black\n",
       "</th>\n",
       "<td>9%</td>\n",
       "<td>5%</td>\n",
       "<td>12%\n",
       "</td></tr>\n",
       "<tr>\n",
       "<th>Hispanic or Latino\n",
       "</th>\n",
       "<td>11%</td>\n",
       "<td>7%</td>\n",
       "<td>16%\n",
       "</td></tr>\n",
       "<tr>\n",
       "<th>White\n",
       "</th>\n",
       "<td>37%</td>\n",
       "<td>38%</td>\n",
       "<td>64%\n",
       "</td></tr>\n",
       "<tr>\n",
       "<th>Two or more races\n",
       "</th>\n",
       "<td>8%</td>\n",
       "<td>3%</td>\n",
       "<td>9%\n",
       "</td></tr>\n",
       "<tr>\n",
       "<th>International\n",
       "</th>\n",
       "<td>12%</td>\n",
       "<td>32%</td>\n",
       "<td>N/A\n",
       "</td></tr></tbody></table>"
      ],
      "text/plain": [
       "<IPython.core.display.HTML object>"
      ]
     },
     "execution_count": 42,
     "metadata": {},
     "output_type": "execute_result"
    }
   ],
   "source": [
    "# Here's the original HTML table.\n",
    "HTML(table_html)"
   ]
  },
  {
   "cell_type": "markdown",
   "metadata": {
    "colab_type": "text",
    "id": "HBMkym2IlV-u"
   },
   "source": [
    "---\n",
    "\n",
    "## Pandas data structures\n",
    "\n",
    "### DataFrames\n",
    "\n",
    "To recap, we now have three data structures holding our column names, our row (index) names, and our values grouped by index.\n",
    "\n",
    "We will now load this data into a Pandas DataFrame. The loading process is pretty straightforward, and all we need to do is tell Pandas which container goes where."
   ]
  },
  {
   "cell_type": "code",
   "execution_count": 43,
   "metadata": {
    "colab": {},
    "colab_type": "code",
    "id": "Hf3F1YKRlV-v"
   },
   "outputs": [],
   "source": [
    "import pandas as pd"
   ]
  },
  {
   "cell_type": "markdown",
   "metadata": {
    "colab_type": "text",
    "id": "Z7_L6B71lV-x"
   },
   "source": [
    "# 11) Create the DataFrame\n",
    "### Use stacked_values, columns and indexes to create the Demographics DataFrame\n",
    "#### Name the DataFrame df"
   ]
  },
  {
   "cell_type": "code",
   "execution_count": 46,
   "metadata": {
    "colab": {},
    "colab_type": "code",
    "id": "fYG5DvVBlV-x",
    "scrolled": true
   },
   "outputs": [
    {
     "data": {
      "text/html": [
       "<div>\n",
       "<style scoped>\n",
       "    .dataframe tbody tr th:only-of-type {\n",
       "        vertical-align: middle;\n",
       "    }\n",
       "\n",
       "    .dataframe tbody tr th {\n",
       "        vertical-align: top;\n",
       "    }\n",
       "\n",
       "    .dataframe thead th {\n",
       "        text-align: right;\n",
       "    }\n",
       "</style>\n",
       "<table border=\"1\" class=\"dataframe\">\n",
       "  <thead>\n",
       "    <tr style=\"text-align: right;\">\n",
       "      <th></th>\n",
       "      <th>Undergrad</th>\n",
       "      <th>Grad/prof</th>\n",
       "      <th>US census</th>\n",
       "    </tr>\n",
       "  </thead>\n",
       "  <tbody>\n",
       "    <tr>\n",
       "      <th>Asian</th>\n",
       "      <td>21</td>\n",
       "      <td>13</td>\n",
       "      <td>5.0</td>\n",
       "    </tr>\n",
       "    <tr>\n",
       "      <th>Black</th>\n",
       "      <td>9</td>\n",
       "      <td>5</td>\n",
       "      <td>12.0</td>\n",
       "    </tr>\n",
       "    <tr>\n",
       "      <th>Hispanic or Latino</th>\n",
       "      <td>11</td>\n",
       "      <td>7</td>\n",
       "      <td>16.0</td>\n",
       "    </tr>\n",
       "    <tr>\n",
       "      <th>White</th>\n",
       "      <td>37</td>\n",
       "      <td>38</td>\n",
       "      <td>64.0</td>\n",
       "    </tr>\n",
       "    <tr>\n",
       "      <th>Two or more races</th>\n",
       "      <td>8</td>\n",
       "      <td>3</td>\n",
       "      <td>9.0</td>\n",
       "    </tr>\n",
       "    <tr>\n",
       "      <th>International</th>\n",
       "      <td>12</td>\n",
       "      <td>32</td>\n",
       "      <td>NaN</td>\n",
       "    </tr>\n",
       "  </tbody>\n",
       "</table>\n",
       "</div>"
      ],
      "text/plain": [
       "                    Undergrad  Grad/prof  US census\n",
       "Asian                      21         13        5.0\n",
       "Black                       9          5       12.0\n",
       "Hispanic or Latino         11          7       16.0\n",
       "White                      37         38       64.0\n",
       "Two or more races           8          3        9.0\n",
       "International              12         32        NaN"
      ]
     },
     "execution_count": 46,
     "metadata": {},
     "output_type": "execute_result"
    }
   ],
   "source": [
    "# Your Code Here\n",
    "#df = pd.DataFrame(list(stacked_values))  #i have hard coded the stacked values, but df should be created like this.  \n",
    "a=[(21, 13, 5), (9, 5, 12), (11, 7, 16), (37, 38, 64), (8, 3, 9), (12, 32, None)]\n",
    "df=pd.DataFrame(a)\n",
    "df.columns = columns\n",
    "df.index = indexes\n",
    "df"
   ]
  },
  {
   "cell_type": "code",
   "execution_count": 47,
   "metadata": {
    "colab": {},
    "colab_type": "code",
    "id": "bWEzcjnilV-z"
   },
   "outputs": [
    {
     "data": {
      "text/html": [
       "<table class=\"wikitable\" style=\"text-align:center; float:right; font-size:85%; margin-right:2em;\">\n",
       "<caption><i>Demographics of student body (Fall 2019)</i><sup class=\"reference\" id=\"cite_ref-Head_count_159-0\"><a href=\"#cite_note-Head_count-159\">[159]</a></sup><sup class=\"reference\" id=\"cite_ref-160\"><a href=\"#cite_note-160\">[160]</a></sup><sup class=\"reference\" id=\"cite_ref-161\"><a href=\"#cite_note-161\">[161]</a></sup><sup class=\"reference\" id=\"cite_ref-162\"><a href=\"#cite_note-162\">[162]</a></sup>\n",
       "</caption>\n",
       "<tbody><tr>\n",
       "<th></th>\n",
       "<th>Undergrad</th>\n",
       "<th>Grad/prof</th>\n",
       "<th>US census\n",
       "</th></tr>\n",
       "<tr>\n",
       "<th>Asian\n",
       "</th>\n",
       "<td>21%</td>\n",
       "<td>13%</td>\n",
       "<td>5%\n",
       "</td></tr>\n",
       "<tr>\n",
       "<th>Black\n",
       "</th>\n",
       "<td>9%</td>\n",
       "<td>5%</td>\n",
       "<td>12%\n",
       "</td></tr>\n",
       "<tr>\n",
       "<th>Hispanic or Latino\n",
       "</th>\n",
       "<td>11%</td>\n",
       "<td>7%</td>\n",
       "<td>16%\n",
       "</td></tr>\n",
       "<tr>\n",
       "<th>White\n",
       "</th>\n",
       "<td>37%</td>\n",
       "<td>38%</td>\n",
       "<td>64%\n",
       "</td></tr>\n",
       "<tr>\n",
       "<th>Two or more races\n",
       "</th>\n",
       "<td>8%</td>\n",
       "<td>3%</td>\n",
       "<td>9%\n",
       "</td></tr>\n",
       "<tr>\n",
       "<th>International\n",
       "</th>\n",
       "<td>12%</td>\n",
       "<td>32%</td>\n",
       "<td>N/A\n",
       "</td></tr></tbody></table>"
      ],
      "text/plain": [
       "<IPython.core.display.HTML object>"
      ]
     },
     "execution_count": 47,
     "metadata": {},
     "output_type": "execute_result"
    }
   ],
   "source": [
    "# Here's the original HTML table.\n",
    "HTML(table_html)"
   ]
  },
  {
   "cell_type": "markdown",
   "metadata": {
    "colab_type": "text",
    "id": "F8iqHSV1lV-2"
   },
   "source": [
    "---\n",
    "\n",
    "### DataFrame cleanup\n",
    "\n",
    "Our DataFrame looks nice; but does it have the right data types?"
   ]
  },
  {
   "cell_type": "markdown",
   "metadata": {
    "colab_type": "text",
    "id": "bnZ8vzR5lV-2"
   },
   "source": [
    "# 12) Display the datatypes of all the columns"
   ]
  },
  {
   "cell_type": "code",
   "execution_count": 48,
   "metadata": {
    "colab": {},
    "colab_type": "code",
    "id": "6PjFH677lV-3"
   },
   "outputs": [
    {
     "data": {
      "text/plain": [
       "Undergrad      int64\n",
       "Grad/prof      int64\n",
       "US census    float64\n",
       "dtype: object"
      ]
     },
     "execution_count": 48,
     "metadata": {},
     "output_type": "execute_result"
    }
   ],
   "source": [
    "# Your Code Here\n",
    "df.dtypes"
   ]
  },
  {
   "cell_type": "markdown",
   "metadata": {
    "colab_type": "text",
    "id": "E0BI9uITlV-7"
   },
   "source": [
    "The `U.S Census` looks a little strange. It should have been evaluated as an integer, but instead it came in as a float. It probably has something to do with the `NaN` value...\n",
    "\n",
    "In fact, missing values can mess up a lot of our calculations, and some function don't work at all when `NaN` are present. So we should probably clean this up.\n",
    "\n",
    "One way to do that is by dropping the rows that have missing values:"
   ]
  },
  {
   "cell_type": "markdown",
   "metadata": {
    "colab_type": "text",
    "id": "qxBtq4QXlV-7"
   },
   "source": [
    "# 13) Drop the row containing NaN value.\n",
    "### After droping the row store it in df_clean_row"
   ]
  },
  {
   "cell_type": "code",
   "execution_count": 49,
   "metadata": {
    "colab": {},
    "colab_type": "code",
    "id": "agY6jks7lV-9"
   },
   "outputs": [
    {
     "data": {
      "text/html": [
       "<div>\n",
       "<style scoped>\n",
       "    .dataframe tbody tr th:only-of-type {\n",
       "        vertical-align: middle;\n",
       "    }\n",
       "\n",
       "    .dataframe tbody tr th {\n",
       "        vertical-align: top;\n",
       "    }\n",
       "\n",
       "    .dataframe thead th {\n",
       "        text-align: right;\n",
       "    }\n",
       "</style>\n",
       "<table border=\"1\" class=\"dataframe\">\n",
       "  <thead>\n",
       "    <tr style=\"text-align: right;\">\n",
       "      <th></th>\n",
       "      <th>Undergrad</th>\n",
       "      <th>Grad/prof</th>\n",
       "      <th>US census</th>\n",
       "    </tr>\n",
       "  </thead>\n",
       "  <tbody>\n",
       "    <tr>\n",
       "      <th>Asian</th>\n",
       "      <td>21</td>\n",
       "      <td>13</td>\n",
       "      <td>5.0</td>\n",
       "    </tr>\n",
       "    <tr>\n",
       "      <th>Black</th>\n",
       "      <td>9</td>\n",
       "      <td>5</td>\n",
       "      <td>12.0</td>\n",
       "    </tr>\n",
       "    <tr>\n",
       "      <th>Hispanic or Latino</th>\n",
       "      <td>11</td>\n",
       "      <td>7</td>\n",
       "      <td>16.0</td>\n",
       "    </tr>\n",
       "    <tr>\n",
       "      <th>White</th>\n",
       "      <td>37</td>\n",
       "      <td>38</td>\n",
       "      <td>64.0</td>\n",
       "    </tr>\n",
       "    <tr>\n",
       "      <th>Two or more races</th>\n",
       "      <td>8</td>\n",
       "      <td>3</td>\n",
       "      <td>9.0</td>\n",
       "    </tr>\n",
       "  </tbody>\n",
       "</table>\n",
       "</div>"
      ],
      "text/plain": [
       "                    Undergrad  Grad/prof  US census\n",
       "Asian                      21         13        5.0\n",
       "Black                       9          5       12.0\n",
       "Hispanic or Latino         11          7       16.0\n",
       "White                      37         38       64.0\n",
       "Two or more races           8          3        9.0"
      ]
     },
     "execution_count": 49,
     "metadata": {},
     "output_type": "execute_result"
    }
   ],
   "source": [
    "# Your Code Here\n",
    "df_clean_row = df.dropna(axis=0,how='any')\n",
    "df_clean_row"
   ]
  },
  {
   "cell_type": "code",
   "execution_count": 50,
   "metadata": {},
   "outputs": [
    {
     "data": {
      "text/html": [
       "<div>\n",
       "<style scoped>\n",
       "    .dataframe tbody tr th:only-of-type {\n",
       "        vertical-align: middle;\n",
       "    }\n",
       "\n",
       "    .dataframe tbody tr th {\n",
       "        vertical-align: top;\n",
       "    }\n",
       "\n",
       "    .dataframe thead th {\n",
       "        text-align: right;\n",
       "    }\n",
       "</style>\n",
       "<table border=\"1\" class=\"dataframe\">\n",
       "  <thead>\n",
       "    <tr style=\"text-align: right;\">\n",
       "      <th></th>\n",
       "      <th>Undergrad</th>\n",
       "      <th>Grad/prof</th>\n",
       "      <th>US census</th>\n",
       "    </tr>\n",
       "  </thead>\n",
       "  <tbody>\n",
       "    <tr>\n",
       "      <th>Undergrad</th>\n",
       "      <td>1.000000</td>\n",
       "      <td>0.730634</td>\n",
       "      <td>0.848438</td>\n",
       "    </tr>\n",
       "    <tr>\n",
       "      <th>Grad/prof</th>\n",
       "      <td>0.730634</td>\n",
       "      <td>1.000000</td>\n",
       "      <td>0.930511</td>\n",
       "    </tr>\n",
       "    <tr>\n",
       "      <th>US census</th>\n",
       "      <td>0.848438</td>\n",
       "      <td>0.930511</td>\n",
       "      <td>1.000000</td>\n",
       "    </tr>\n",
       "  </tbody>\n",
       "</table>\n",
       "</div>"
      ],
      "text/plain": [
       "           Undergrad  Grad/prof  US census\n",
       "Undergrad   1.000000   0.730634   0.848438\n",
       "Grad/prof   0.730634   1.000000   0.930511\n",
       "US census   0.848438   0.930511   1.000000"
      ]
     },
     "execution_count": 50,
     "metadata": {},
     "output_type": "execute_result"
    }
   ],
   "source": [
    "df.corr()"
   ]
  },
  {
   "cell_type": "markdown",
   "metadata": {
    "colab_type": "text",
    "id": "ka5mJhBmlV-_"
   },
   "source": [
    "# 13) Drop the column containing NaN value.\n",
    "### After droping the row store it in df_clean_column"
   ]
  },
  {
   "cell_type": "code",
   "execution_count": 53,
   "metadata": {
    "colab": {},
    "colab_type": "code",
    "id": "VoRXibnVlV-_"
   },
   "outputs": [
    {
     "data": {
      "text/html": [
       "<div>\n",
       "<style scoped>\n",
       "    .dataframe tbody tr th:only-of-type {\n",
       "        vertical-align: middle;\n",
       "    }\n",
       "\n",
       "    .dataframe tbody tr th {\n",
       "        vertical-align: top;\n",
       "    }\n",
       "\n",
       "    .dataframe thead th {\n",
       "        text-align: right;\n",
       "    }\n",
       "</style>\n",
       "<table border=\"1\" class=\"dataframe\">\n",
       "  <thead>\n",
       "    <tr style=\"text-align: right;\">\n",
       "      <th></th>\n",
       "      <th>Undergrad</th>\n",
       "      <th>Grad/prof</th>\n",
       "    </tr>\n",
       "  </thead>\n",
       "  <tbody>\n",
       "    <tr>\n",
       "      <th>Asian</th>\n",
       "      <td>21</td>\n",
       "      <td>13</td>\n",
       "    </tr>\n",
       "    <tr>\n",
       "      <th>Black</th>\n",
       "      <td>9</td>\n",
       "      <td>5</td>\n",
       "    </tr>\n",
       "    <tr>\n",
       "      <th>Hispanic or Latino</th>\n",
       "      <td>11</td>\n",
       "      <td>7</td>\n",
       "    </tr>\n",
       "    <tr>\n",
       "      <th>White</th>\n",
       "      <td>37</td>\n",
       "      <td>38</td>\n",
       "    </tr>\n",
       "    <tr>\n",
       "      <th>Two or more races</th>\n",
       "      <td>8</td>\n",
       "      <td>3</td>\n",
       "    </tr>\n",
       "    <tr>\n",
       "      <th>International</th>\n",
       "      <td>12</td>\n",
       "      <td>32</td>\n",
       "    </tr>\n",
       "  </tbody>\n",
       "</table>\n",
       "</div>"
      ],
      "text/plain": [
       "                    Undergrad  Grad/prof\n",
       "Asian                      21         13\n",
       "Black                       9          5\n",
       "Hispanic or Latino         11          7\n",
       "White                      37         38\n",
       "Two or more races           8          3\n",
       "International              12         32"
      ]
     },
     "execution_count": 53,
     "metadata": {},
     "output_type": "execute_result"
    }
   ],
   "source": [
    "# Your Code Here\n",
    "df_clean_column = df.dropna(axis=1)\n",
    "df_clean_column"
   ]
  },
  {
   "cell_type": "markdown",
   "metadata": {
    "colab_type": "text",
    "id": "nrOc2WkxlV_B"
   },
   "source": [
    "We will take a less radical approach and replace the missing value with a zero. In this case this solution makes sense, since 0% value meaningful in this context. We will also transform all the values to integers at the same time."
   ]
  },
  {
   "cell_type": "markdown",
   "metadata": {
    "colab_type": "text",
    "id": "dleQ3exZlV_B"
   },
   "source": [
    "# 13) Fill the NaN value with 0 \n",
    "### After filling the NaN value with 0 store it in df_clean"
   ]
  },
  {
   "cell_type": "code",
   "execution_count": 54,
   "metadata": {
    "colab": {},
    "colab_type": "code",
    "id": "iE-C7eA1lV_B"
   },
   "outputs": [
    {
     "data": {
      "text/html": [
       "<div>\n",
       "<style scoped>\n",
       "    .dataframe tbody tr th:only-of-type {\n",
       "        vertical-align: middle;\n",
       "    }\n",
       "\n",
       "    .dataframe tbody tr th {\n",
       "        vertical-align: top;\n",
       "    }\n",
       "\n",
       "    .dataframe thead th {\n",
       "        text-align: right;\n",
       "    }\n",
       "</style>\n",
       "<table border=\"1\" class=\"dataframe\">\n",
       "  <thead>\n",
       "    <tr style=\"text-align: right;\">\n",
       "      <th></th>\n",
       "      <th>Undergrad</th>\n",
       "      <th>Grad/prof</th>\n",
       "      <th>US census</th>\n",
       "    </tr>\n",
       "  </thead>\n",
       "  <tbody>\n",
       "    <tr>\n",
       "      <th>Asian</th>\n",
       "      <td>21</td>\n",
       "      <td>13</td>\n",
       "      <td>5.0</td>\n",
       "    </tr>\n",
       "    <tr>\n",
       "      <th>Black</th>\n",
       "      <td>9</td>\n",
       "      <td>5</td>\n",
       "      <td>12.0</td>\n",
       "    </tr>\n",
       "    <tr>\n",
       "      <th>Hispanic or Latino</th>\n",
       "      <td>11</td>\n",
       "      <td>7</td>\n",
       "      <td>16.0</td>\n",
       "    </tr>\n",
       "    <tr>\n",
       "      <th>White</th>\n",
       "      <td>37</td>\n",
       "      <td>38</td>\n",
       "      <td>64.0</td>\n",
       "    </tr>\n",
       "    <tr>\n",
       "      <th>Two or more races</th>\n",
       "      <td>8</td>\n",
       "      <td>3</td>\n",
       "      <td>9.0</td>\n",
       "    </tr>\n",
       "    <tr>\n",
       "      <th>International</th>\n",
       "      <td>12</td>\n",
       "      <td>32</td>\n",
       "      <td>0.0</td>\n",
       "    </tr>\n",
       "  </tbody>\n",
       "</table>\n",
       "</div>"
      ],
      "text/plain": [
       "                    Undergrad  Grad/prof  US census\n",
       "Asian                      21         13        5.0\n",
       "Black                       9          5       12.0\n",
       "Hispanic or Latino         11          7       16.0\n",
       "White                      37         38       64.0\n",
       "Two or more races           8          3        9.0\n",
       "International              12         32        0.0"
      ]
     },
     "execution_count": 54,
     "metadata": {},
     "output_type": "execute_result"
    }
   ],
   "source": [
    "# Your Code Here\n",
    "df_clean = df.fillna(0)\n",
    "df_clean"
   ]
  },
  {
   "cell_type": "code",
   "execution_count": 55,
   "metadata": {
    "colab": {},
    "colab_type": "code",
    "id": "Bg9w39lplV_D"
   },
   "outputs": [
    {
     "data": {
      "text/html": [
       "<div>\n",
       "<style scoped>\n",
       "    .dataframe tbody tr th:only-of-type {\n",
       "        vertical-align: middle;\n",
       "    }\n",
       "\n",
       "    .dataframe tbody tr th {\n",
       "        vertical-align: top;\n",
       "    }\n",
       "\n",
       "    .dataframe thead th {\n",
       "        text-align: right;\n",
       "    }\n",
       "</style>\n",
       "<table border=\"1\" class=\"dataframe\">\n",
       "  <thead>\n",
       "    <tr style=\"text-align: right;\">\n",
       "      <th></th>\n",
       "      <th>Undergrad</th>\n",
       "      <th>Grad/prof</th>\n",
       "      <th>US census</th>\n",
       "    </tr>\n",
       "  </thead>\n",
       "  <tbody>\n",
       "    <tr>\n",
       "      <th>Undergrad</th>\n",
       "      <td>1.000000</td>\n",
       "      <td>0.730634</td>\n",
       "      <td>0.848438</td>\n",
       "    </tr>\n",
       "    <tr>\n",
       "      <th>Grad/prof</th>\n",
       "      <td>0.730634</td>\n",
       "      <td>1.000000</td>\n",
       "      <td>0.930511</td>\n",
       "    </tr>\n",
       "    <tr>\n",
       "      <th>US census</th>\n",
       "      <td>0.848438</td>\n",
       "      <td>0.930511</td>\n",
       "      <td>1.000000</td>\n",
       "    </tr>\n",
       "  </tbody>\n",
       "</table>\n",
       "</div>"
      ],
      "text/plain": [
       "           Undergrad  Grad/prof  US census\n",
       "Undergrad   1.000000   0.730634   0.848438\n",
       "Grad/prof   0.730634   1.000000   0.930511\n",
       "US census   0.848438   0.930511   1.000000"
      ]
     },
     "execution_count": 55,
     "metadata": {},
     "output_type": "execute_result"
    }
   ],
   "source": [
    "df_clean.dtypes\n",
    "df.corr()"
   ]
  },
  {
   "cell_type": "code",
   "execution_count": 56,
   "metadata": {},
   "outputs": [
    {
     "data": {
      "text/plain": [
       "16.333333333333332"
      ]
     },
     "execution_count": 56,
     "metadata": {},
     "output_type": "execute_result"
    }
   ],
   "source": [
    "df_clean['Undergrad'].mean()"
   ]
  },
  {
   "cell_type": "markdown",
   "metadata": {
    "colab_type": "text",
    "id": "psKN1wZ6lV_F"
   },
   "source": [
    "Now our table looks good!\n"
   ]
  },
  {
   "cell_type": "markdown",
   "metadata": {
    "colab_type": "text",
    "id": "fh9FVU-UlV_G"
   },
   "source": [
    "---\n",
    "\n",
    "### NumPy\n",
    "\n",
    "Pandas is awesome, but it is built on top of another library the we will use extensively during the course. NumPy implements new data types and vectorized functions."
   ]
  },
  {
   "cell_type": "code",
   "execution_count": 57,
   "metadata": {
    "colab": {},
    "colab_type": "code",
    "id": "jUep-9NllV_G"
   },
   "outputs": [],
   "source": [
    "import numpy as np"
   ]
  },
  {
   "cell_type": "markdown",
   "metadata": {
    "colab_type": "text",
    "id": "lxkkHR_3lV_I"
   },
   "source": [
    "The `values` method of the DataFrame will return a two-dimensional `array` with the DataFrame values. The `array` is a NumPy structure that we will be using a lot during this class."
   ]
  },
  {
   "cell_type": "code",
   "execution_count": 58,
   "metadata": {
    "colab": {},
    "colab_type": "code",
    "id": "DG0k2_UVlV_I"
   },
   "outputs": [
    {
     "data": {
      "text/plain": [
       "array([[21., 13.,  5.],\n",
       "       [ 9.,  5., 12.],\n",
       "       [11.,  7., 16.],\n",
       "       [37., 38., 64.],\n",
       "       [ 8.,  3.,  9.],\n",
       "       [12., 32.,  0.]])"
      ]
     },
     "execution_count": 58,
     "metadata": {},
     "output_type": "execute_result"
    }
   ],
   "source": [
    "df_clean.values"
   ]
  },
  {
   "cell_type": "markdown",
   "metadata": {
    "colab_type": "text",
    "id": "Fi-YMfJ5lV_K"
   },
   "source": [
    "Let's see if this is indeed a NumPy type..."
   ]
  },
  {
   "cell_type": "code",
   "execution_count": 59,
   "metadata": {
    "colab": {},
    "colab_type": "code",
    "id": "Y99gwFjKlV_K"
   },
   "outputs": [
    {
     "data": {
      "text/plain": [
       "numpy.ndarray"
      ]
     },
     "execution_count": 59,
     "metadata": {},
     "output_type": "execute_result"
    }
   ],
   "source": [
    "type(df_clean.values)"
   ]
  },
  {
   "cell_type": "markdown",
   "metadata": {
    "colab_type": "text",
    "id": "3t1WCFI_lV_M"
   },
   "source": [
    "NumPy also offers many functions that can operate directly on the DataFrame."
   ]
  },
  {
   "cell_type": "markdown",
   "metadata": {
    "colab_type": "text",
    "id": "gfRSm1AolV_N"
   },
   "source": [
    "# 14) Find the mean for the column 'Undergrad' from the cleaned dataset"
   ]
  },
  {
   "cell_type": "code",
   "execution_count": 60,
   "metadata": {
    "colab": {},
    "colab_type": "code",
    "id": "4Ae8SICFlV_N"
   },
   "outputs": [
    {
     "data": {
      "text/plain": [
       "16.333333333333332"
      ]
     },
     "execution_count": 60,
     "metadata": {},
     "output_type": "execute_result"
    }
   ],
   "source": [
    "# Your Code Here\n",
    "df_clean['Undergrad'].mean()"
   ]
  },
  {
   "cell_type": "markdown",
   "metadata": {
    "colab_type": "text",
    "id": "U1aE66TMlV_O"
   },
   "source": [
    "# 15) Find the standard deviation for all the columns of the cleaned dataset"
   ]
  },
  {
   "cell_type": "code",
   "execution_count": 61,
   "metadata": {
    "colab": {},
    "colab_type": "code",
    "id": "6GOMSOKnlV_R"
   },
   "outputs": [
    {
     "data": {
      "text/plain": [
       "Undergrad    11.129540\n",
       "Grad/prof    14.962175\n",
       "US census    23.363790\n",
       "dtype: float64"
      ]
     },
     "execution_count": 61,
     "metadata": {},
     "output_type": "execute_result"
    }
   ],
   "source": [
    "# Your Code Here\n",
    "df_clean.std()"
   ]
  },
  {
   "cell_type": "code",
   "execution_count": 62,
   "metadata": {},
   "outputs": [
    {
     "data": {
      "text/plain": [
       "Undergrad    29.0\n",
       "Grad/prof    35.0\n",
       "US census    64.0\n",
       "dtype: float64"
      ]
     },
     "execution_count": 62,
     "metadata": {},
     "output_type": "execute_result"
    }
   ],
   "source": [
    "range_val=df_clean.max()-df_clean.min()\n",
    "range_val"
   ]
  },
  {
   "cell_type": "code",
   "execution_count": 63,
   "metadata": {},
   "outputs": [
    {
     "data": {
      "text/html": [
       "<div>\n",
       "<style scoped>\n",
       "    .dataframe tbody tr th:only-of-type {\n",
       "        vertical-align: middle;\n",
       "    }\n",
       "\n",
       "    .dataframe tbody tr th {\n",
       "        vertical-align: top;\n",
       "    }\n",
       "\n",
       "    .dataframe thead th {\n",
       "        text-align: right;\n",
       "    }\n",
       "</style>\n",
       "<table border=\"1\" class=\"dataframe\">\n",
       "  <thead>\n",
       "    <tr style=\"text-align: right;\">\n",
       "      <th></th>\n",
       "      <th>Undergrad</th>\n",
       "      <th>Grad/prof</th>\n",
       "      <th>US census</th>\n",
       "    </tr>\n",
       "  </thead>\n",
       "  <tbody>\n",
       "    <tr>\n",
       "      <th>Asian</th>\n",
       "      <td>0.214286</td>\n",
       "      <td>0.132653</td>\n",
       "      <td>0.047170</td>\n",
       "    </tr>\n",
       "    <tr>\n",
       "      <th>Black</th>\n",
       "      <td>0.091837</td>\n",
       "      <td>0.051020</td>\n",
       "      <td>0.113208</td>\n",
       "    </tr>\n",
       "    <tr>\n",
       "      <th>Hispanic or Latino</th>\n",
       "      <td>0.112245</td>\n",
       "      <td>0.071429</td>\n",
       "      <td>0.150943</td>\n",
       "    </tr>\n",
       "    <tr>\n",
       "      <th>White</th>\n",
       "      <td>0.377551</td>\n",
       "      <td>0.387755</td>\n",
       "      <td>0.603774</td>\n",
       "    </tr>\n",
       "    <tr>\n",
       "      <th>Two or more races</th>\n",
       "      <td>0.081633</td>\n",
       "      <td>0.030612</td>\n",
       "      <td>0.084906</td>\n",
       "    </tr>\n",
       "    <tr>\n",
       "      <th>International</th>\n",
       "      <td>0.122449</td>\n",
       "      <td>0.326531</td>\n",
       "      <td>0.000000</td>\n",
       "    </tr>\n",
       "  </tbody>\n",
       "</table>\n",
       "</div>"
      ],
      "text/plain": [
       "                    Undergrad  Grad/prof  US census\n",
       "Asian                0.214286   0.132653   0.047170\n",
       "Black                0.091837   0.051020   0.113208\n",
       "Hispanic or Latino   0.112245   0.071429   0.150943\n",
       "White                0.377551   0.387755   0.603774\n",
       "Two or more races    0.081633   0.030612   0.084906\n",
       "International        0.122449   0.326531   0.000000"
      ]
     },
     "execution_count": 63,
     "metadata": {},
     "output_type": "execute_result"
    }
   ],
   "source": [
    "x = df_clean/(df_clean.sum())\n",
    "x"
   ]
  },
  {
   "cell_type": "markdown",
   "metadata": {
    "colab_type": "text",
    "id": "ME4HgBFWIUHi"
   },
   "source": [
    "### Congrats on Completing the Assignment. Now proceed to the following link to attempt a small quiz based on this assignment. \n",
    "\n",
    "https://forms.gle/6XTvyzT7rhprgkbi7 \n",
    "\n",
    "### Remember completion of this assignment remains incomplete if you don't attempt the quiz. So don't forget to do the same."
   ]
  },
  {
   "cell_type": "code",
   "execution_count": null,
   "metadata": {},
   "outputs": [],
   "source": []
  }
 ],
 "metadata": {
  "colab": {
   "collapsed_sections": [
    "KzoUTUo6lV-C",
    "K4VYK05hlV-X",
    "F8iqHSV1lV-2"
   ],
   "name": "Data_Engineering_Summer_Analytics.ipynb",
   "provenance": []
  },
  "kernelspec": {
   "display_name": "Python 3",
   "language": "python",
   "name": "python3"
  },
  "language_info": {
   "codemirror_mode": {
    "name": "ipython",
    "version": 3
   },
   "file_extension": ".py",
   "mimetype": "text/x-python",
   "name": "python",
   "nbconvert_exporter": "python",
   "pygments_lexer": "ipython3",
   "version": "3.7.3"
  }
 },
 "nbformat": 4,
 "nbformat_minor": 1
}
